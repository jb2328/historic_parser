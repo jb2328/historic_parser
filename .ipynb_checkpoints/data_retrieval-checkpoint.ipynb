{
 "cells": [
  {
   "cell_type": "code",
   "execution_count": 2,
   "metadata": {},
   "outputs": [],
   "source": [
    "import os\n",
    "import glob\n",
    "import simplejson as json\n",
    "\n",
    "import time\n",
    "import datetime\n",
    "from datetime import date\n",
    "import calendar\n",
    "\n",
    "import pandas"
   ]
  },
  {
   "cell_type": "code",
   "execution_count": 3,
   "metadata": {},
   "outputs": [
    {
     "data": {
      "text/plain": [
       "['01', '02']"
      ]
     },
     "execution_count": 3,
     "metadata": {},
     "output_type": "execute_result"
    }
   ],
   "source": [
    "months=sorted(os.listdir(\"/media/tfc/btjourney/journeytimes/data_bin/2020/\"))\n",
    "months"
   ]
  },
  {
   "cell_type": "code",
   "execution_count": 4,
   "metadata": {},
   "outputs": [
    {
     "data": {
      "text/plain": [
       "['27', '28', '29', '30', '31']"
      ]
     },
     "execution_count": 4,
     "metadata": {},
     "output_type": "execute_result"
    }
   ],
   "source": [
    "Jan=sorted(os.listdir(\"/media/tfc/btjourney/journeytimes/data_bin/2020/01\"))\n",
    "Jan"
   ]
  },
  {
   "cell_type": "code",
   "execution_count": 5,
   "metadata": {},
   "outputs": [
    {
     "data": {
      "text/plain": [
       "['03', '04', '05', '06', '10', '11', '12', '13', '14', '17', '18']"
      ]
     },
     "execution_count": 5,
     "metadata": {},
     "output_type": "execute_result"
    }
   ],
   "source": [
    "Feb=sorted(os.listdir(\"/media/tfc/btjourney/journeytimes/data_bin/2020/02\"))\n",
    "Feb"
   ]
  },
  {
   "cell_type": "code",
   "execution_count": 6,
   "metadata": {},
   "outputs": [
    {
     "data": {
      "text/plain": [
       "['10', '11', '12', '13', '14']"
      ]
     },
     "execution_count": 6,
     "metadata": {},
     "output_type": "execute_result"
    }
   ],
   "source": [
    "week=Feb[4:9]\n",
    "week"
   ]
  },
  {
   "cell_type": "code",
   "execution_count": 7,
   "metadata": {},
   "outputs": [
    {
     "name": "stdout",
     "output_type": "stream",
     "text": [
      "03\n",
      "04\n",
      "05\n",
      "06\n",
      "10\n",
      "11\n",
      "12\n",
      "13\n",
      "14\n",
      "17\n",
      "18\n"
     ]
    }
   ],
   "source": [
    "for i in Feb:\n",
    "    print(i)"
   ]
  },
  {
   "cell_type": "code",
   "execution_count": 8,
   "metadata": {},
   "outputs": [],
   "source": [
    "file_dir=\"/media/tfc/btjourney/journeytimes/data_bin/2020/02/\"+Feb[2]+\"/\""
   ]
  },
  {
   "cell_type": "code",
   "execution_count": 9,
   "metadata": {},
   "outputs": [],
   "source": [
    "files=sorted(os.listdir(file_dir))"
   ]
  },
  {
   "cell_type": "code",
   "execution_count": 10,
   "metadata": {},
   "outputs": [
    {
     "data": {
      "text/plain": [
       "['1580914134.301_2020-02-05-14-48-54.json',\n",
       " '1580914433.823_2020-02-05-14-53-53.json',\n",
       " '1580914733.837_2020-02-05-14-58-53.json',\n",
       " '1580915034.012_2020-02-05-15-03-54.json',\n",
       " '1580915334.011_2020-02-05-15-08-54.json',\n",
       " '1580915633.863_2020-02-05-15-13-53.json',\n",
       " '1580915933.843_2020-02-05-15-18-53.json',\n",
       " '1580916233.842_2020-02-05-15-23-53.json',\n",
       " '1580916533.911_2020-02-05-15-28-53.json',\n",
       " '1580916833.855_2020-02-05-15-33-53.json',\n",
       " '1580917133.924_2020-02-05-15-38-53.json',\n",
       " '1580917433.941_2020-02-05-15-43-53.json',\n",
       " '1580917734.025_2020-02-05-15-48-54.json',\n",
       " '1580918033.984_2020-02-05-15-53-53.json',\n",
       " '1580918333.946_2020-02-05-15-58-53.json',\n",
       " '1580918633.928_2020-02-05-16-03-53.json',\n",
       " '1580918933.940_2020-02-05-16-08-53.json',\n",
       " '1580919233.902_2020-02-05-16-13-53.json',\n",
       " '1580919533.915_2020-02-05-16-18-53.json',\n",
       " '1580919833.886_2020-02-05-16-23-53.json',\n",
       " '1580920133.856_2020-02-05-16-28-53.json',\n",
       " '1580920433.820_2020-02-05-16-33-53.json',\n",
       " '1580920733.883_2020-02-05-16-38-53.json',\n",
       " '1580921033.829_2020-02-05-16-43-53.json',\n",
       " '1580921333.909_2020-02-05-16-48-53.json',\n",
       " '1580921633.872_2020-02-05-16-53-53.json',\n",
       " '1580921933.993_2020-02-05-16-58-53.json',\n",
       " '1580922233.819_2020-02-05-17-03-53.json',\n",
       " '1580922533.872_2020-02-05-17-08-53.json',\n",
       " '1580922833.888_2020-02-05-17-13-53.json',\n",
       " '1580923133.898_2020-02-05-17-18-53.json',\n",
       " '1580923433.845_2020-02-05-17-23-53.json',\n",
       " '1580923733.862_2020-02-05-17-28-53.json',\n",
       " '1580924033.819_2020-02-05-17-33-53.json',\n",
       " '1580924333.865_2020-02-05-17-38-53.json',\n",
       " '1580924633.889_2020-02-05-17-43-53.json',\n",
       " '1580924933.983_2020-02-05-17-48-53.json',\n",
       " '1580925233.811_2020-02-05-17-53-53.json',\n",
       " '1580925533.898_2020-02-05-17-58-53.json',\n",
       " '1580925833.838_2020-02-05-18-03-53.json']"
      ]
     },
     "execution_count": 10,
     "metadata": {},
     "output_type": "execute_result"
    }
   ],
   "source": [
    "files"
   ]
  },
  {
   "cell_type": "code",
   "execution_count": 11,
   "metadata": {},
   "outputs": [
    {
     "data": {
      "text/plain": [
       "'1580914134.301_2020-02-05-14-48-54.json'"
      ]
     },
     "execution_count": 11,
     "metadata": {},
     "output_type": "execute_result"
    }
   ],
   "source": [
    "files[0]"
   ]
  },
  {
   "cell_type": "code",
   "execution_count": 30,
   "metadata": {},
   "outputs": [
    {
     "data": {
      "text/plain": [
       "1580914134"
      ]
     },
     "execution_count": 30,
     "metadata": {},
     "output_type": "execute_result"
    }
   ],
   "source": [
    "parse_file_name(files[0])"
   ]
  },
  {
   "cell_type": "code",
   "execution_count": 31,
   "metadata": {
    "scrolled": false
   },
   "outputs": [],
   "source": [
    "msg=read_file(file_dir+files[0])"
   ]
  },
  {
   "cell_type": "code",
   "execution_count": 32,
   "metadata": {},
   "outputs": [],
   "source": [
    "msg_json=json.loads(msg)"
   ]
  },
  {
   "cell_type": "code",
   "execution_count": 33,
   "metadata": {},
   "outputs": [
    {
     "data": {
      "text/plain": [
       "144"
      ]
     },
     "execution_count": 33,
     "metadata": {},
     "output_type": "execute_result"
    }
   ],
   "source": [
    "len(msg_json)"
   ]
  },
  {
   "cell_type": "code",
   "execution_count": 34,
   "metadata": {},
   "outputs": [
    {
     "data": {
      "text/plain": [
       "{'id': 'CAMBRIDGE_JTMS|9800WBETRSU3',\n",
       " 'time': '2020-02-05 14:45:00',\n",
       " 'period': 300,\n",
       " 'travelTime': 126,\n",
       " 'normalTravelTime': 129.445}"
      ]
     },
     "execution_count": 34,
     "metadata": {},
     "output_type": "execute_result"
    }
   ],
   "source": [
    "msg_json[0]"
   ]
  },
  {
   "cell_type": "code",
   "execution_count": 35,
   "metadata": {},
   "outputs": [
    {
     "data": {
      "text/plain": [
       "'CAMBRIDGE_JTMS|9800WBETRSU3'"
      ]
     },
     "execution_count": 35,
     "metadata": {},
     "output_type": "execute_result"
    }
   ],
   "source": [
    "msg_json[0][\"id\"]"
   ]
  },
  {
   "cell_type": "code",
   "execution_count": 36,
   "metadata": {},
   "outputs": [
    {
     "data": {
      "text/plain": [
       "'2020-02-05 14:45:00'"
      ]
     },
     "execution_count": 36,
     "metadata": {},
     "output_type": "execute_result"
    }
   ],
   "source": [
    "t1=msg_json[0][\"time\"]\n",
    "t1"
   ]
  },
  {
   "cell_type": "code",
   "execution_count": 37,
   "metadata": {},
   "outputs": [
    {
     "data": {
      "text/plain": [
       "'2020-02-05 14:43:19'"
      ]
     },
     "execution_count": 37,
     "metadata": {},
     "output_type": "execute_result"
    }
   ],
   "source": [
    "t5=msg_json[10][\"time\"]\n",
    "t5"
   ]
  },
  {
   "cell_type": "code",
   "execution_count": 38,
   "metadata": {},
   "outputs": [
    {
     "data": {
      "text/plain": [
       "1580913799"
      ]
     },
     "execution_count": 38,
     "metadata": {},
     "output_type": "execute_result"
    }
   ],
   "source": [
    "get_unix_ts(t5)"
   ]
  },
  {
   "cell_type": "code",
   "execution_count": 39,
   "metadata": {},
   "outputs": [],
   "source": [
    "def get_unix_ts2(ts):\n",
    "    if(ts!=None):\n",
    "        return time.mktime(datetime.datetime.strptime(ts, \"%Y-%m-%d\").timetuple())"
   ]
  },
  {
   "cell_type": "code",
   "execution_count": 40,
   "metadata": {},
   "outputs": [],
   "source": [
    "def get_unix_ts(ts):\n",
    "    if(ts!=None):\n",
    "        return int(time.mktime(datetime.datetime.strptime(ts, \"%Y-%m-%d %H:%M:%S\").timetuple()))"
   ]
  },
  {
   "cell_type": "code",
   "execution_count": 41,
   "metadata": {},
   "outputs": [],
   "source": [
    "def parse_file_name(s):\n",
    "    text = s\n",
    "    left_text = text.partition(\".\")[0]\n",
    "    return int(left_text)"
   ]
  },
  {
   "cell_type": "code",
   "execution_count": 42,
   "metadata": {},
   "outputs": [
    {
     "data": {
      "text/plain": [
       "'CAMBRIDGE_JTMS|9800WBETRSU3'"
      ]
     },
     "execution_count": 42,
     "metadata": {},
     "output_type": "execute_result"
    }
   ],
   "source": [
    "link=msg_json[0][\"id\"]\n",
    "link"
   ]
  },
  {
   "cell_type": "code",
   "execution_count": 43,
   "metadata": {},
   "outputs": [
    {
     "name": "stdout",
     "output_type": "stream",
     "text": [
      "Travel Time 126 Time 2020-02-05 14:45:00 Unix 1580913900\n",
      "Travel Time 130 Time 2020-02-05 14:49:16 Unix 1580914156\n",
      "Travel Time 138 Time 2020-02-05 14:53:42 Unix 1580914422\n",
      "Travel Time 130 Time 2020-02-05 14:59:12 Unix 1580914752\n",
      "Travel Time 130 Time 2020-02-05 15:03:41 Unix 1580915021\n",
      "Travel Time 127 Time 2020-02-05 15:09:07 Unix 1580915347\n",
      "Travel Time 136 Time 2020-02-05 15:14:58 Unix 1580915698\n",
      "Travel Time 133 Time 2020-02-05 15:16:59 Unix 1580915819\n",
      "Travel Time 126 Time 2020-02-05 15:24:59 Unix 1580916299\n",
      "Travel Time 138 Time 2020-02-05 15:30:00 Unix 1580916600\n",
      "Travel Time 118 Time 2020-02-05 15:34:18 Unix 1580916858\n",
      "Travel Time 118 Time 2020-02-05 15:38:42 Unix 1580917122\n",
      "Travel Time 127 Time 2020-02-05 15:45:17 Unix 1580917517\n",
      "Travel Time 124 Time 2020-02-05 15:48:49 Unix 1580917729\n",
      "Travel Time 134 Time 2020-02-05 15:55:34 Unix 1580918134\n",
      "Travel Time 135 Time 2020-02-05 15:59:27 Unix 1580918367\n",
      "Travel Time 126 Time 2020-02-05 16:04:57 Unix 1580918697\n",
      "Travel Time 133 Time 2020-02-05 16:09:13 Unix 1580918953\n",
      "Travel Time 130 Time 2020-02-05 16:14:45 Unix 1580919285\n",
      "Travel Time 136 Time 2020-02-05 16:19:49 Unix 1580919589\n",
      "Travel Time 140 Time 2020-02-05 16:25:02 Unix 1580919902\n",
      "Travel Time 137 Time 2020-02-05 16:29:27 Unix 1580920167\n",
      "Travel Time 139 Time 2020-02-05 16:34:19 Unix 1580920459\n",
      "Travel Time 133 Time 2020-02-05 16:39:26 Unix 1580920766\n",
      "Travel Time 139 Time 2020-02-05 16:45:03 Unix 1580921103\n",
      "Travel Time 134 Time 2020-02-05 16:49:33 Unix 1580921373\n",
      "Travel Time 129 Time 2020-02-05 16:53:41 Unix 1580921621\n",
      "Travel Time 138 Time 2020-02-05 16:59:36 Unix 1580921976\n",
      "Travel Time 128 Time 2020-02-05 17:04:33 Unix 1580922273\n",
      "Travel Time 133 Time 2020-02-05 17:08:42 Unix 1580922522\n",
      "Travel Time 127 Time 2020-02-05 17:13:52 Unix 1580922832\n",
      "Travel Time 136 Time 2020-02-05 17:19:28 Unix 1580923168\n",
      "Travel Time 148 Time 2020-02-05 17:24:53 Unix 1580923493\n",
      "Travel Time 148 Time 2020-02-05 17:27:59 Unix 1580923679\n",
      "Travel Time 150 Time 2020-02-05 17:34:16 Unix 1580924056\n",
      "Travel Time 148 Time 2020-02-05 17:40:21 Unix 1580924421\n",
      "Travel Time 152 Time 2020-02-05 17:44:37 Unix 1580924677\n",
      "Travel Time 151 Time 2020-02-05 17:49:15 Unix 1580924955\n",
      "Travel Time 136 Time 2020-02-05 17:54:08 Unix 1580925248\n",
      "Travel Time 139 Time 2020-02-05 17:58:21 Unix 1580925501\n"
     ]
    }
   ],
   "source": [
    "\n",
    "for i in range(0, len(files)):\n",
    "    msg_json=json.loads(read_file(file_dir+files[i]))\n",
    "    for i in range(0, len(msg_json)):\n",
    "        if(msg_json[i][\"id\"]==link):\n",
    "            print(\"Travel Time {}\".format(msg_json[i][\"travelTime\"]), \"Time {}\".format(msg_json[i][\"time\"]), \"Unix {}\".format(get_unix_ts(msg_json[i][\"time\"])))"
   ]
  },
  {
   "cell_type": "code",
   "execution_count": 44,
   "metadata": {},
   "outputs": [],
   "source": [
    "def ts_to_day(ts):\n",
    "    return time.strftime(\"%w\", time.gmtime(ts/1000))"
   ]
  },
  {
   "cell_type": "code",
   "execution_count": 20,
   "metadata": {},
   "outputs": [],
   "source": [
    "# Python program to get average of a list \n",
    "def get_avg(lst): \n",
    "    #res = [i for i in lst if i] \n",
    "    #print(res)\n",
    "    if(len(lst)>0):\n",
    "        return sum(lst) / len(lst) "
   ]
  },
  {
   "cell_type": "code",
   "execution_count": 21,
   "metadata": {},
   "outputs": [],
   "source": [
    "def read_file(file):\n",
    "    \"\"\"Gets the first line from a file.\n",
    "\n",
    "    Returns\n",
    "    -------\n",
    "    str\n",
    "        the first line text of the input file\n",
    "    \"\"\"\n",
    "    with open(file, 'rt') as fd:\n",
    "        first_line = fd.readline()\n",
    "    return first_line"
   ]
  },
  {
   "cell_type": "code",
   "execution_count": 22,
   "metadata": {},
   "outputs": [],
   "source": [
    "file_dir=\"/media/tfc/btjourney/journeytimes/data_bin/2020/02/\"+Feb[2]+\"/\"\n",
    "files=sorted(os.listdir(file_dir))\n"
   ]
  },
  {
   "cell_type": "code",
   "execution_count": 73,
   "metadata": {},
   "outputs": [],
   "source": [
    "full_day=86400 #seconds"
   ]
  },
  {
   "cell_type": "code",
   "execution_count": 23,
   "metadata": {},
   "outputs": [],
   "source": [
    "def global_travel_time(files,ts,duration):\n",
    "    avg_tt=[]\n",
    "    print(files[0], files[len(files)-1])\n",
    "    for i in range(0, len(files)):\n",
    "        msg_json=json.loads(read_file(file_dir+files[i]))\n",
    "        for i in range(0, len(msg_json)):\n",
    "            if(msg_json[i][\"travelTime\"]!=None):\n",
    "                if((get_unix_ts(msg_json[i][\"time\"])-get_unix_ts(ts)<duration)and(get_unix_ts(msg_json[i][\"time\"])-get_unix_ts(ts)>=0) ):\n",
    "                    avg_tt.append(msg_json[i][\"travelTime\"])\n",
    "    return get_avg(avg_tt)"
   ]
  },
  {
   "cell_type": "code",
   "execution_count": 157,
   "metadata": {},
   "outputs": [],
   "source": [
    "def get_link_travel_time(files,link,ts,duration):\n",
    "    avg_tt=[]\n",
    "    #parse_file_name()\n",
    "    \n",
    "    unix_ts=get_unix_ts(ts)\n",
    "    unix_ts_target=unix_ts+duration\n",
    "    #ts_to_calendar(unix_ts)\n",
    "    \n",
    "    print(\"from \"+ts_to_full_calendar(unix_ts)+\" to \"+ts_to_full_calendar(unix_ts_target))\n",
    "    unix_ts_inc=unix_ts\n",
    "    files_new=[]\n",
    "\n",
    "    while(unix_ts_inc<unix_ts_target):\n",
    "        temp_date=ts_to_calendar(unix_ts_inc)\n",
    "        full_temp_date=\"/media/tfc/btjourney/journeytimes/data_bin/\"+temp_date\n",
    "        print(temp_date)\n",
    "        try:\n",
    "            directory=sorted(os.listdir(full_temp_date))\n",
    "            \n",
    "            for i in directory:\n",
    "                if(parse_file_name(i)<=unix_ts_target):\n",
    "                    i=full_temp_date+\"/\"+i\n",
    "                    files_new.append(i)\n",
    "        except:\n",
    "            pass\n",
    "        unix_ts_inc+=full_day\n",
    "\n",
    "        #print(files_new)\n",
    "    #directory=sorted(os.listdir(\"/media/tfc/btjourney/journeytimes/data_bin/\"))\n",
    "    \n",
    "    for i in range(0, len(files_new)):\n",
    "        msg_json=json.loads(read_file(files_new[i]))\n",
    "        for i in range(0, len(msg_json)):\n",
    "            if((msg_json[i][\"id\"]==link) and (get_unix_ts(msg_json[i][\"time\"])-get_unix_ts(ts)<duration)and(get_unix_ts(msg_json[i][\"time\"])-get_unix_ts(ts)>=0) ):\n",
    "                avg_tt.append(msg_json[i][\"travelTime\"])\n",
    "                print(\"Travel Time {}\".format(msg_json[i][\"travelTime\"]), \"Time {}\".format(msg_json[i][\"time\"]), \"Unix {}\".format(get_unix_ts(msg_json[i][\"time\"])))\n",
    "    print(\"\\n\",get_avg(avg_tt))"
   ]
  },
  {
   "cell_type": "code",
   "execution_count": 168,
   "metadata": {},
   "outputs": [
    {
     "data": {
      "text/plain": [
       "['1580914134.301_2020-02-05-14-48-54.json',\n",
       " '1580914433.823_2020-02-05-14-53-53.json',\n",
       " '1580914733.837_2020-02-05-14-58-53.json',\n",
       " '1580915034.012_2020-02-05-15-03-54.json',\n",
       " '1580915334.011_2020-02-05-15-08-54.json',\n",
       " '1580915633.863_2020-02-05-15-13-53.json',\n",
       " '1580915933.843_2020-02-05-15-18-53.json',\n",
       " '1580916233.842_2020-02-05-15-23-53.json',\n",
       " '1580916533.911_2020-02-05-15-28-53.json',\n",
       " '1580916833.855_2020-02-05-15-33-53.json',\n",
       " '1580917133.924_2020-02-05-15-38-53.json',\n",
       " '1580917433.941_2020-02-05-15-43-53.json',\n",
       " '1580917734.025_2020-02-05-15-48-54.json',\n",
       " '1580918033.984_2020-02-05-15-53-53.json',\n",
       " '1580918333.946_2020-02-05-15-58-53.json',\n",
       " '1580918633.928_2020-02-05-16-03-53.json',\n",
       " '1580918933.940_2020-02-05-16-08-53.json',\n",
       " '1580919233.902_2020-02-05-16-13-53.json',\n",
       " '1580919533.915_2020-02-05-16-18-53.json',\n",
       " '1580919833.886_2020-02-05-16-23-53.json',\n",
       " '1580920133.856_2020-02-05-16-28-53.json',\n",
       " '1580920433.820_2020-02-05-16-33-53.json',\n",
       " '1580920733.883_2020-02-05-16-38-53.json',\n",
       " '1580921033.829_2020-02-05-16-43-53.json',\n",
       " '1580921333.909_2020-02-05-16-48-53.json',\n",
       " '1580921633.872_2020-02-05-16-53-53.json',\n",
       " '1580921933.993_2020-02-05-16-58-53.json',\n",
       " '1580922233.819_2020-02-05-17-03-53.json',\n",
       " '1580922533.872_2020-02-05-17-08-53.json',\n",
       " '1580922833.888_2020-02-05-17-13-53.json',\n",
       " '1580923133.898_2020-02-05-17-18-53.json',\n",
       " '1580923433.845_2020-02-05-17-23-53.json',\n",
       " '1580923733.862_2020-02-05-17-28-53.json',\n",
       " '1580924033.819_2020-02-05-17-33-53.json',\n",
       " '1580924333.865_2020-02-05-17-38-53.json',\n",
       " '1580924633.889_2020-02-05-17-43-53.json',\n",
       " '1580924933.983_2020-02-05-17-48-53.json',\n",
       " '1580925233.811_2020-02-05-17-53-53.json',\n",
       " '1580925533.898_2020-02-05-17-58-53.json',\n",
       " '1580925833.838_2020-02-05-18-03-53.json']"
      ]
     },
     "execution_count": 168,
     "metadata": {},
     "output_type": "execute_result"
    }
   ],
   "source": [
    "full_temp_date=\"/media/tfc/btjourney/journeytimes/data_bin/2020/02/05\"\n",
    "sorted(os.listdir(full_temp_date))"
   ]
  },
  {
   "cell_type": "code",
   "execution_count": 158,
   "metadata": {},
   "outputs": [
    {
     "data": {
      "text/plain": [
       "['03', '04', '05', '06', '10', '11', '12', '13', '14', '17', '18']"
      ]
     },
     "execution_count": 158,
     "metadata": {},
     "output_type": "execute_result"
    }
   ],
   "source": [
    "Feb"
   ]
  },
  {
   "cell_type": "code",
   "execution_count": 159,
   "metadata": {},
   "outputs": [
    {
     "data": {
      "text/plain": [
       "['27', '28', '29', '30', '31']"
      ]
     },
     "execution_count": 159,
     "metadata": {},
     "output_type": "execute_result"
    }
   ],
   "source": [
    "Jan"
   ]
  },
  {
   "cell_type": "code",
   "execution_count": 170,
   "metadata": {
    "scrolled": false
   },
   "outputs": [
    {
     "name": "stdout",
     "output_type": "stream",
     "text": [
      "from 2020/01/30 16:25:02 to 2020/02/05 16:51:42\n",
      "2020/01/30\n",
      "2020/01/31\n",
      "2020/02/01\n",
      "2020/02/02\n",
      "2020/02/03\n",
      "2020/02/04\n",
      "2020/02/05\n",
      "Travel Time 142 Time 2020-01-30 16:28:57 Unix 1580401737\n",
      "Travel Time 140 Time 2020-01-30 16:33:27 Unix 1580402007\n",
      "Travel Time 129 Time 2020-01-30 16:39:35 Unix 1580402375\n",
      "Travel Time 145 Time 2020-01-30 16:42:59 Unix 1580402579\n",
      "Travel Time 130 Time 2020-01-30 16:48:34 Unix 1580402914\n",
      "Travel Time 133 Time 2020-01-30 16:54:24 Unix 1580403264\n",
      "Travel Time 141 Time 2020-01-30 17:00:11 Unix 1580403611\n",
      "Travel Time 133 Time 2020-01-30 17:04:33 Unix 1580403873\n",
      "Travel Time 141 Time 2020-01-30 17:09:53 Unix 1580404193\n",
      "Travel Time 143 Time 2020-01-30 17:11:53 Unix 1580404313\n",
      "Travel Time 157 Time 2020-01-30 17:18:46 Unix 1580404726\n",
      "Travel Time 149 Time 2020-01-30 17:23:07 Unix 1580404987\n",
      "Travel Time 149 Time 2020-01-30 17:29:45 Unix 1580405385\n",
      "Travel Time 154 Time 2020-01-30 17:34:39 Unix 1580405679\n",
      "Travel Time 152 Time 2020-01-30 17:40:13 Unix 1580406013\n",
      "Travel Time 149 Time 2020-01-30 17:42:28 Unix 1580406148\n",
      "Travel Time 131 Time 2020-01-30 17:48:42 Unix 1580406522\n",
      "Travel Time 144 Time 2020-01-30 17:54:35 Unix 1580406875\n",
      "Travel Time 144 Time 2020-01-30 17:59:55 Unix 1580407195\n",
      "Travel Time 136 Time 2020-01-31 10:11:40 Unix 1580465500\n",
      "Travel Time 136 Time 2020-01-31 10:16:40 Unix 1580465800\n",
      "Travel Time 125 Time 2020-01-31 10:21:55 Unix 1580466115\n",
      "Travel Time 121 Time 2020-01-31 10:30:08 Unix 1580466608\n",
      "Travel Time 120 Time 2020-01-31 10:31:40 Unix 1580466700\n",
      "Travel Time 119 Time 2020-01-31 10:37:53 Unix 1580467073\n",
      "Travel Time 148 Time 2020-01-31 10:42:19 Unix 1580467339\n",
      "Travel Time 128 Time 2020-01-31 10:48:10 Unix 1580467690\n",
      "Travel Time 112 Time 2020-01-31 10:53:24 Unix 1580468004\n",
      "Travel Time 131 Time 2020-01-31 10:57:10 Unix 1580468230\n",
      "Travel Time 130 Time 2020-01-31 11:02:15 Unix 1580468535\n",
      "Travel Time 128 Time 2020-01-31 11:09:07 Unix 1580468947\n",
      "Travel Time 117 Time 2020-01-31 11:14:14 Unix 1580469254\n",
      "Travel Time 125 Time 2020-01-31 11:18:53 Unix 1580469533\n",
      "Travel Time 130 Time 2020-01-31 11:21:40 Unix 1580469700\n",
      "Travel Time 128 Time 2020-01-31 11:28:23 Unix 1580470103\n",
      "Travel Time 128 Time 2020-01-31 11:31:40 Unix 1580470300\n",
      "Travel Time 128 Time 2020-01-31 11:39:17 Unix 1580470757\n",
      "Travel Time 129 Time 2020-01-31 11:43:16 Unix 1580470996\n",
      "Travel Time 118 Time 2020-01-31 11:49:59 Unix 1580471399\n",
      "Travel Time 139 Time 2020-01-31 11:54:13 Unix 1580471653\n",
      "Travel Time 134 Time 2020-01-31 11:59:30 Unix 1580471970\n",
      "Travel Time 131 Time 2020-01-31 12:02:34 Unix 1580472154\n",
      "Travel Time 112 Time 2020-01-31 12:09:39 Unix 1580472579\n",
      "Travel Time 121 Time 2020-01-31 12:13:07 Unix 1580472787\n",
      "Travel Time 128 Time 2020-01-31 12:20:03 Unix 1580473203\n",
      "Travel Time 129 Time 2020-01-31 12:22:30 Unix 1580473350\n",
      "Travel Time 115 Time 2020-01-31 12:29:22 Unix 1580473762\n",
      "Travel Time 124 Time 2020-01-31 12:34:47 Unix 1580474087\n",
      "Travel Time 131 Time 2020-01-31 12:39:47 Unix 1580474387\n",
      "Travel Time 129 Time 2020-01-31 12:44:39 Unix 1580474679\n",
      "Travel Time 127 Time 2020-01-31 12:50:04 Unix 1580475004\n",
      "Travel Time 124 Time 2020-01-31 12:55:09 Unix 1580475309\n",
      "Travel Time 123 Time 2020-01-31 12:56:40 Unix 1580475400\n",
      "Travel Time 125 Time 2020-01-31 13:03:08 Unix 1580475788\n",
      "Travel Time 121 Time 2020-01-31 13:09:42 Unix 1580476182\n",
      "Travel Time 120 Time 2020-01-31 13:15:08 Unix 1580476508\n",
      "Travel Time 127 Time 2020-01-31 13:20:01 Unix 1580476801\n",
      "Travel Time 123 Time 2020-01-31 13:21:54 Unix 1580476914\n",
      "Travel Time 117 Time 2020-01-31 13:29:27 Unix 1580477367\n",
      "Travel Time 124 Time 2020-01-31 13:32:50 Unix 1580477570\n",
      "Travel Time 141 Time 2020-01-31 13:39:32 Unix 1580477972\n",
      "Travel Time 137 Time 2020-01-31 13:42:47 Unix 1580478167\n",
      "Travel Time 128 Time 2020-01-31 13:49:47 Unix 1580478587\n",
      "Travel Time 123 Time 2020-01-31 13:55:02 Unix 1580478902\n",
      "Travel Time 125 Time 2020-01-31 14:00:01 Unix 1580479201\n",
      "Travel Time 127 Time 2020-01-31 14:04:01 Unix 1580479441\n",
      "Travel Time 132 Time 2020-01-31 14:08:14 Unix 1580479694\n",
      "Travel Time 126 Time 2020-01-31 14:14:39 Unix 1580480079\n",
      "Travel Time 121 Time 2020-01-31 14:20:10 Unix 1580480410\n",
      "Travel Time 115 Time 2020-01-31 14:23:58 Unix 1580480638\n",
      "Travel Time 127 Time 2020-01-31 14:29:30 Unix 1580480970\n",
      "Travel Time 132 Time 2020-01-31 14:34:36 Unix 1580481276\n",
      "Travel Time 125 Time 2020-01-31 14:39:30 Unix 1580481570\n",
      "Travel Time 124 Time 2020-01-31 14:43:15 Unix 1580481795\n",
      "Travel Time 113 Time 2020-01-31 14:49:54 Unix 1580482194\n",
      "Travel Time 115 Time 2020-01-31 14:54:07 Unix 1580482447\n",
      "Travel Time 130 Time 2020-01-31 15:00:03 Unix 1580482803\n",
      "Travel Time 130 Time 2020-01-31 15:04:32 Unix 1580483072\n",
      "Travel Time 136 Time 2020-01-31 15:08:31 Unix 1580483311\n",
      "Travel Time 129 Time 2020-01-31 15:15:17 Unix 1580483717\n",
      "Travel Time 139 Time 2020-01-31 15:20:03 Unix 1580484003\n",
      "Travel Time 131 Time 2020-01-31 15:24:42 Unix 1580484282\n",
      "Travel Time 126 Time 2020-01-31 15:30:15 Unix 1580484615\n",
      "Travel Time 133 Time 2020-01-31 15:34:54 Unix 1580484894\n",
      "Travel Time 132 Time 2020-01-31 15:39:37 Unix 1580485177\n",
      "Travel Time 131 Time 2020-01-31 15:45:06 Unix 1580485506\n",
      "Travel Time 129 Time 2020-01-31 15:49:32 Unix 1580485772\n",
      "Travel Time 136 Time 2020-01-31 15:55:03 Unix 1580486103\n",
      "Travel Time 137 Time 2020-01-31 15:59:43 Unix 1580486383\n",
      "Travel Time 138 Time 2020-01-31 16:04:46 Unix 1580486686\n",
      "Travel Time 137 Time 2020-01-31 16:09:42 Unix 1580486982\n",
      "Travel Time 128 Time 2020-01-31 16:15:16 Unix 1580487316\n",
      "Travel Time 134 Time 2020-01-31 16:20:13 Unix 1580487613\n",
      "Travel Time 142 Time 2020-01-31 16:23:55 Unix 1580487835\n",
      "Travel Time 141 Time 2020-01-31 16:28:55 Unix 1580488135\n",
      "Travel Time 141 Time 2020-01-31 16:34:56 Unix 1580488496\n",
      "Travel Time 140 Time 2020-01-31 16:37:56 Unix 1580488676\n",
      "Travel Time 152 Time 2020-01-31 16:45:07 Unix 1580489107\n",
      "Travel Time 152 Time 2020-01-31 16:48:41 Unix 1580489321\n",
      "Travel Time 132 Time 2020-01-31 16:55:17 Unix 1580489717\n",
      "Travel Time 137 Time 2020-01-31 16:59:06 Unix 1580489946\n",
      "Travel Time 149 Time 2020-01-31 17:04:55 Unix 1580490295\n",
      "Travel Time 136 Time 2020-01-31 17:09:33 Unix 1580490573\n",
      "Travel Time 143 Time 2020-01-31 17:13:31 Unix 1580490811\n",
      "Travel Time 147 Time 2020-01-31 17:18:18 Unix 1580491098\n",
      "Travel Time 144 Time 2020-01-31 17:24:16 Unix 1580491456\n",
      "Travel Time 156 Time 2020-01-31 17:29:30 Unix 1580491770\n",
      "Travel Time 160 Time 2020-01-31 17:32:26 Unix 1580491946\n",
      "Travel Time 170 Time 2020-01-31 17:39:02 Unix 1580492342\n",
      "Travel Time 156 Time 2020-01-31 17:45:01 Unix 1580492701\n",
      "Travel Time 146 Time 2020-01-31 17:48:25 Unix 1580492905\n",
      "Travel Time 150 Time 2020-01-31 17:54:58 Unix 1580493298\n",
      "Travel Time 141 Time 2020-01-31 18:00:05 Unix 1580493605\n",
      "Travel Time 120 Time 2020-02-03 10:13:19 Unix 1580724799\n",
      "Travel Time 118 Time 2020-02-03 10:19:16 Unix 1580725156\n",
      "Travel Time 118 Time 2020-02-03 10:21:43 Unix 1580725303\n",
      "Travel Time 118 Time 2020-02-03 10:26:40 Unix 1580725600\n",
      "Travel Time 118 Time 2020-02-03 10:34:33 Unix 1580726073\n",
      "Travel Time 118 Time 2020-02-03 10:39:41 Unix 1580726381\n",
      "Travel Time 112 Time 2020-02-03 10:42:43 Unix 1580726563\n",
      "Travel Time 108 Time 2020-02-03 10:47:53 Unix 1580726873\n",
      "Travel Time 112 Time 2020-02-03 10:51:53 Unix 1580727113\n",
      "Travel Time 119 Time 2020-02-03 10:59:56 Unix 1580727596\n",
      "Travel Time 123 Time 2020-02-03 11:05:01 Unix 1580727901\n",
      "Travel Time 121 Time 2020-02-03 11:08:18 Unix 1580728098\n",
      "Travel Time 130 Time 2020-02-03 11:13:37 Unix 1580728417\n",
      "Travel Time 116 Time 2020-02-03 11:18:43 Unix 1580728723\n",
      "Travel Time 123 Time 2020-02-03 11:22:47 Unix 1580728967\n",
      "Travel Time 123 Time 2020-02-03 11:29:12 Unix 1580729352\n",
      "Travel Time 123 Time 2020-02-03 11:31:40 Unix 1580729500\n",
      "Travel Time 126 Time 2020-02-03 11:39:05 Unix 1580729945\n",
      "Travel Time 131 Time 2020-02-03 11:41:40 Unix 1580730100\n",
      "Travel Time 117 Time 2020-02-03 11:49:16 Unix 1580730556\n",
      "Travel Time 122 Time 2020-02-03 11:51:40 Unix 1580730700\n",
      "Travel Time 116 Time 2020-02-03 11:59:56 Unix 1580731196\n",
      "Travel Time 125 Time 2020-02-03 12:01:40 Unix 1580731300\n",
      "Travel Time 124 Time 2020-02-03 12:08:25 Unix 1580731705\n",
      "Travel Time 111 Time 2020-02-03 12:13:19 Unix 1580731999\n",
      "Travel Time 134 Time 2020-02-03 12:19:14 Unix 1580732354\n",
      "Travel Time 128 Time 2020-02-03 12:24:00 Unix 1580732640\n",
      "Travel Time 133 Time 2020-02-03 12:30:05 Unix 1580733005\n",
      "Travel Time 133 Time 2020-02-03 12:32:58 Unix 1580733178\n",
      "Travel Time 124 Time 2020-02-03 12:36:40 Unix 1580733400\n",
      "Travel Time 120 Time 2020-02-03 12:42:13 Unix 1580733733\n",
      "Travel Time 122 Time 2020-02-03 12:49:52 Unix 1580734192\n",
      "Travel Time 126 Time 2020-02-03 12:52:28 Unix 1580734348\n",
      "Travel Time 114 Time 2020-02-03 12:58:53 Unix 1580734733\n",
      "Travel Time 129 Time 2020-02-03 13:05:09 Unix 1580735109\n",
      "Travel Time 130 Time 2020-02-03 13:08:53 Unix 1580735333\n",
      "Travel Time 120 Time 2020-02-03 13:13:55 Unix 1580735635\n",
      "Travel Time 124 Time 2020-02-03 13:18:47 Unix 1580735927\n",
      "Travel Time 129 Time 2020-02-03 13:24:23 Unix 1580736263\n",
      "Travel Time 120 Time 2020-02-03 13:28:47 Unix 1580736527\n",
      "Travel Time 125 Time 2020-02-03 13:32:33 Unix 1580736753\n",
      "Travel Time 129 Time 2020-02-03 13:37:57 Unix 1580737077\n",
      "Travel Time 126 Time 2020-02-03 13:44:28 Unix 1580737468\n",
      "Travel Time 122 Time 2020-02-03 13:48:22 Unix 1580737702\n",
      "Travel Time 120 Time 2020-02-03 13:52:32 Unix 1580737952\n",
      "Travel Time 129 Time 2020-02-03 13:59:34 Unix 1580738374\n",
      "Travel Time 130 Time 2020-02-03 14:01:40 Unix 1580738500\n",
      "Travel Time 127 Time 2020-02-03 14:08:47 Unix 1580738927\n",
      "Travel Time 123 Time 2020-02-03 14:13:35 Unix 1580739215\n",
      "Travel Time 118 Time 2020-02-03 14:17:43 Unix 1580739463\n",
      "Travel Time 125 Time 2020-02-03 14:23:40 Unix 1580739820\n",
      "Travel Time 119 Time 2020-02-03 14:28:00 Unix 1580740080\n",
      "Travel Time 119 Time 2020-02-03 14:33:00 Unix 1580740380\n",
      "Travel Time 127 Time 2020-02-03 14:40:11 Unix 1580740811\n",
      "Travel Time 123 Time 2020-02-03 14:45:06 Unix 1580741106\n",
      "Travel Time 124 Time 2020-02-03 14:47:30 Unix 1580741250\n",
      "Travel Time 120 Time 2020-02-03 14:54:10 Unix 1580741650\n",
      "Travel Time 116 Time 2020-02-03 14:56:40 Unix 1580741800\n",
      "Travel Time 126 Time 2020-02-03 15:03:54 Unix 1580742234\n",
      "Travel Time 127 Time 2020-02-03 15:07:27 Unix 1580742447\n",
      "Travel Time 131 Time 2020-02-03 15:14:02 Unix 1580742842\n",
      "Travel Time 131 Time 2020-02-03 15:16:40 Unix 1580743000\n",
      "Travel Time 133 Time 2020-02-03 15:24:04 Unix 1580743444\n",
      "Travel Time 130 Time 2020-02-03 15:29:11 Unix 1580743751\n",
      "Travel Time 132 Time 2020-02-03 15:33:15 Unix 1580743995\n",
      "Travel Time 130 Time 2020-02-03 15:39:44 Unix 1580744384\n",
      "Travel Time 127 Time 2020-02-03 15:44:36 Unix 1580744676\n",
      "Travel Time 131 Time 2020-02-03 15:49:21 Unix 1580744961\n",
      "Travel Time 133 Time 2020-02-03 15:54:53 Unix 1580745293\n",
      "Travel Time 132 Time 2020-02-03 15:59:19 Unix 1580745559\n",
      "Travel Time 130 Time 2020-02-03 16:05:04 Unix 1580745904\n",
      "Travel Time 132 Time 2020-02-03 16:09:58 Unix 1580746198\n",
      "Travel Time 132 Time 2020-02-03 16:15:03 Unix 1580746503\n",
      "Travel Time 134 Time 2020-02-03 16:19:30 Unix 1580746770\n",
      "Travel Time 139 Time 2020-02-03 16:24:36 Unix 1580747076\n",
      "Travel Time 135 Time 2020-02-03 16:30:04 Unix 1580747404\n",
      "Travel Time 138 Time 2020-02-03 16:34:14 Unix 1580747654\n",
      "Travel Time 155 Time 2020-02-03 16:40:00 Unix 1580748000\n",
      "Travel Time 143 Time 2020-02-03 16:44:06 Unix 1580748246\n",
      "Travel Time 132 Time 2020-02-03 16:50:02 Unix 1580748602\n",
      "Travel Time 135 Time 2020-02-03 16:54:44 Unix 1580748884\n",
      "Travel Time 142 Time 2020-02-03 16:59:50 Unix 1580749190\n",
      "Travel Time 136 Time 2020-02-03 17:03:54 Unix 1580749434\n",
      "Travel Time 143 Time 2020-02-03 17:10:11 Unix 1580749811\n",
      "Travel Time 141 Time 2020-02-03 17:15:01 Unix 1580750101\n",
      "Travel Time 144 Time 2020-02-03 17:18:54 Unix 1580750334\n",
      "Travel Time 137 Time 2020-02-03 17:23:57 Unix 1580750637\n",
      "Travel Time 145 Time 2020-02-03 17:29:42 Unix 1580750982\n",
      "Travel Time 144 Time 2020-02-03 17:33:42 Unix 1580751222\n",
      "Travel Time 147 Time 2020-02-03 17:39:47 Unix 1580751587\n",
      "Travel Time 145 Time 2020-02-03 17:44:19 Unix 1580751859\n",
      "Travel Time 129 Time 2020-02-03 17:48:23 Unix 1580752103\n",
      "Travel Time 136 Time 2020-02-03 17:54:32 Unix 1580752472\n",
      "Travel Time 138 Time 2020-02-03 18:00:07 Unix 1580752807\n",
      "Travel Time 143 Time 2020-02-03 18:04:16 Unix 1580753056\n",
      "Travel Time 134 Time 2020-02-03 18:10:06 Unix 1580753406\n",
      "Travel Time 133 Time 2020-02-03 18:14:45 Unix 1580753685\n",
      "Travel Time 129 Time 2020-02-04 10:15:02 Unix 1580811302\n",
      "Travel Time 145 Time 2020-02-04 10:19:28 Unix 1580811568\n",
      "Travel Time 123 Time 2020-02-04 10:24:53 Unix 1580811893\n",
      "Travel Time 114 Time 2020-02-04 10:29:34 Unix 1580812174\n",
      "Travel Time 113 Time 2020-02-04 10:34:42 Unix 1580812482\n",
      "Travel Time 113 Time 2020-02-04 10:36:40 Unix 1580812600\n",
      "Travel Time 141 Time 2020-02-04 10:45:33 Unix 1580813133\n",
      "Travel Time 119 Time 2020-02-04 10:49:47 Unix 1580813387\n",
      "Travel Time 120 Time 2020-02-04 10:53:31 Unix 1580813611\n",
      "Travel Time 122 Time 2020-02-04 10:57:46 Unix 1580813866\n",
      "Travel Time 221 Time 2020-02-04 11:03:58 Unix 1580814238\n",
      "Travel Time 115 Time 2020-02-04 11:06:40 Unix 1580814400\n",
      "Travel Time 116 Time 2020-02-04 11:13:02 Unix 1580814782\n",
      "Travel Time 124 Time 2020-02-04 11:16:40 Unix 1580815000\n",
      "Travel Time 108 Time 2020-02-04 11:23:54 Unix 1580815434\n",
      "Travel Time 120 Time 2020-02-04 11:28:30 Unix 1580815710\n",
      "Travel Time 133 Time 2020-02-04 11:32:46 Unix 1580815966\n",
      "Travel Time 114 Time 2020-02-04 11:39:12 Unix 1580816352\n",
      "Travel Time 120 Time 2020-02-04 11:43:38 Unix 1580816618\n",
      "Travel Time 120 Time 2020-02-04 11:49:24 Unix 1580816964\n",
      "Travel Time 120 Time 2020-02-04 11:53:10 Unix 1580817190\n",
      "Travel Time 120 Time 2020-02-04 11:56:40 Unix 1580817400\n",
      "Travel Time 147 Time 2020-02-04 12:04:39 Unix 1580817879\n",
      "Travel Time 127 Time 2020-02-04 12:09:35 Unix 1580818175\n",
      "Travel Time 121 Time 2020-02-04 12:15:07 Unix 1580818507\n",
      "Travel Time 117 Time 2020-02-04 12:19:57 Unix 1580818797\n",
      "Travel Time 119 Time 2020-02-04 12:21:43 Unix 1580818903\n",
      "Travel Time 117 Time 2020-02-04 12:28:04 Unix 1580819284\n",
      "Travel Time 128 Time 2020-02-04 12:34:36 Unix 1580819676\n",
      "Travel Time 143 Time 2020-02-04 12:38:36 Unix 1580819916\n",
      "Travel Time 141 Time 2020-02-04 12:41:40 Unix 1580820100\n",
      "Travel Time 115 Time 2020-02-04 12:48:21 Unix 1580820501\n",
      "Travel Time 113 Time 2020-02-04 12:53:48 Unix 1580820828\n",
      "Travel Time 119 Time 2020-02-04 12:59:13 Unix 1580821153\n",
      "Travel Time 132 Time 2020-02-04 13:03:35 Unix 1580821415\n",
      "Travel Time 106 Time 2020-02-04 13:09:59 Unix 1580821799\n",
      "Travel Time 110 Time 2020-02-04 13:14:05 Unix 1580822045\n",
      "Travel Time 116 Time 2020-02-04 13:17:37 Unix 1580822257\n",
      "Travel Time 132 Time 2020-02-04 13:24:04 Unix 1580822644\n",
      "Travel Time 128 Time 2020-02-04 13:27:34 Unix 1580822854\n",
      "Travel Time 105 Time 2020-02-04 13:34:39 Unix 1580823279\n",
      "Travel Time 106 Time 2020-02-04 13:39:04 Unix 1580823544\n",
      "Travel Time 128 Time 2020-02-04 13:44:40 Unix 1580823880\n",
      "Travel Time 133 Time 2020-02-04 13:46:40 Unix 1580824000\n",
      "Travel Time 122 Time 2020-02-04 13:53:59 Unix 1580824439\n",
      "Travel Time 133 Time 2020-02-04 13:57:14 Unix 1580824634\n",
      "Travel Time 136 Time 2020-02-04 14:04:00 Unix 1580825040\n",
      "Travel Time 118 Time 2020-02-04 14:09:50 Unix 1580825390\n",
      "Travel Time 115 Time 2020-02-04 14:12:41 Unix 1580825561\n",
      "Travel Time 130 Time 2020-02-04 14:17:50 Unix 1580825870\n",
      "Travel Time 127 Time 2020-02-04 14:25:17 Unix 1580826317\n",
      "Travel Time 120 Time 2020-02-04 14:30:20 Unix 1580826620\n",
      "Travel Time 135 Time 2020-02-04 14:32:31 Unix 1580826751\n",
      "Travel Time 108 Time 2020-02-04 14:38:32 Unix 1580827112\n",
      "Travel Time 129 Time 2020-02-04 14:43:25 Unix 1580827405\n",
      "Travel Time 124 Time 2020-02-04 14:49:14 Unix 1580827754\n",
      "Travel Time 112 Time 2020-02-04 14:54:22 Unix 1580828062\n",
      "Travel Time 112 Time 2020-02-04 14:56:43 Unix 1580828203\n",
      "Travel Time 133 Time 2020-02-04 15:04:21 Unix 1580828661\n",
      "Travel Time 123 Time 2020-02-04 15:09:06 Unix 1580828946\n",
      "Travel Time 120 Time 2020-02-04 15:14:49 Unix 1580829289\n",
      "Travel Time 126 Time 2020-02-05 14:45:00 Unix 1580913900\n",
      "Travel Time 130 Time 2020-02-05 14:49:16 Unix 1580914156\n",
      "Travel Time 138 Time 2020-02-05 14:53:42 Unix 1580914422\n",
      "Travel Time 130 Time 2020-02-05 14:59:12 Unix 1580914752\n",
      "Travel Time 130 Time 2020-02-05 15:03:41 Unix 1580915021\n",
      "Travel Time 127 Time 2020-02-05 15:09:07 Unix 1580915347\n",
      "Travel Time 136 Time 2020-02-05 15:14:58 Unix 1580915698\n",
      "Travel Time 133 Time 2020-02-05 15:16:59 Unix 1580915819\n",
      "Travel Time 126 Time 2020-02-05 15:24:59 Unix 1580916299\n",
      "Travel Time 138 Time 2020-02-05 15:30:00 Unix 1580916600\n",
      "Travel Time 118 Time 2020-02-05 15:34:18 Unix 1580916858\n",
      "Travel Time 118 Time 2020-02-05 15:38:42 Unix 1580917122\n",
      "Travel Time 127 Time 2020-02-05 15:45:17 Unix 1580917517\n"
     ]
    },
    {
     "name": "stdout",
     "output_type": "stream",
     "text": [
      "Travel Time 124 Time 2020-02-05 15:48:49 Unix 1580917729\n",
      "Travel Time 134 Time 2020-02-05 15:55:34 Unix 1580918134\n",
      "Travel Time 135 Time 2020-02-05 15:59:27 Unix 1580918367\n",
      "Travel Time 126 Time 2020-02-05 16:04:57 Unix 1580918697\n",
      "Travel Time 133 Time 2020-02-05 16:09:13 Unix 1580918953\n",
      "Travel Time 130 Time 2020-02-05 16:14:45 Unix 1580919285\n",
      "Travel Time 136 Time 2020-02-05 16:19:49 Unix 1580919589\n",
      "Travel Time 140 Time 2020-02-05 16:25:02 Unix 1580919902\n",
      "Travel Time 137 Time 2020-02-05 16:29:27 Unix 1580920167\n",
      "Travel Time 139 Time 2020-02-05 16:34:19 Unix 1580920459\n",
      "Travel Time 133 Time 2020-02-05 16:39:26 Unix 1580920766\n",
      "Travel Time 139 Time 2020-02-05 16:45:03 Unix 1580921103\n",
      "\n",
      " 129.4831081081081\n"
     ]
    }
   ],
   "source": [
    "get_link_travel_time(files,'CAMBRIDGE_JTMS|9800WBETRSU3','2020-01-30 16:25:02',520000)"
   ]
  },
  {
   "cell_type": "code",
   "execution_count": 161,
   "metadata": {},
   "outputs": [
    {
     "data": {
      "text/plain": [
       "['03', '04', '05', '06', '10', '11', '12', '13', '14', '17', '18']"
      ]
     },
     "execution_count": 161,
     "metadata": {},
     "output_type": "execute_result"
    }
   ],
   "source": [
    "directory=sorted(os.listdir(\"/media/tfc/btjourney/journeytimes/data_bin/2020/02\"))\n",
    "directory"
   ]
  },
  {
   "cell_type": "code",
   "execution_count": 55,
   "metadata": {},
   "outputs": [
    {
     "data": {
      "text/plain": [
       "1580919902"
      ]
     },
     "execution_count": 55,
     "metadata": {},
     "output_type": "execute_result"
    }
   ],
   "source": [
    "get_unix_ts('2020-02-05 16:25:02')"
   ]
  },
  {
   "cell_type": "code",
   "execution_count": 56,
   "metadata": {},
   "outputs": [
    {
     "data": {
      "text/plain": [
       "'2020/02/05'"
      ]
     },
     "execution_count": 56,
     "metadata": {},
     "output_type": "execute_result"
    }
   ],
   "source": [
    "ts_to_calendar(get_unix_ts('2020-02-05 16:25:02'))"
   ]
  },
  {
   "cell_type": "code",
   "execution_count": 57,
   "metadata": {},
   "outputs": [
    {
     "data": {
      "text/plain": [
       "'05'"
      ]
     },
     "execution_count": 57,
     "metadata": {},
     "output_type": "execute_result"
    }
   ],
   "source": [
    "text = ts_to_calendar(get_unix_ts('2020-02-05 16:25:02'))\n",
    "left_text = text.split(\"/\")[2]\n",
    "left_text"
   ]
  },
  {
   "cell_type": "code",
   "execution_count": 72,
   "metadata": {},
   "outputs": [
    {
     "name": "stdout",
     "output_type": "stream",
     "text": [
      "2017/07/14 02:40:00\n"
     ]
    },
    {
     "data": {
      "text/plain": [
       "'2017/07/15 02:40:00'"
      ]
     },
     "execution_count": 72,
     "metadata": {},
     "output_type": "execute_result"
    }
   ],
   "source": [
    "print(ts_to_full_calendar(1500000000))\n",
    "ts_to_full_calendar(1500000000+h24)"
   ]
  },
  {
   "cell_type": "code",
   "execution_count": 65,
   "metadata": {},
   "outputs": [],
   "source": [
    "def ts_to_full_calendar(ts):\n",
    "    return datetime.datetime.utcfromtimestamp(ts).strftime('%Y/%m/%d %H:%M:%S')"
   ]
  },
  {
   "cell_type": "code",
   "execution_count": 58,
   "metadata": {},
   "outputs": [],
   "source": [
    "def ts_to_calendar(ts):\n",
    "    return datetime.datetime.utcfromtimestamp(ts).strftime('%Y/%m/%d')\n",
    "    #print(date.utcfromtimestamp(ts).strftime('%Y/%m/%d'))"
   ]
  },
  {
   "cell_type": "code",
   "execution_count": 59,
   "metadata": {},
   "outputs": [
    {
     "data": {
      "text/plain": [
       "'Wednesday'"
      ]
     },
     "execution_count": 59,
     "metadata": {},
     "output_type": "execute_result"
    }
   ],
   "source": [
    "ts_to_weekday(1580919902)"
   ]
  },
  {
   "cell_type": "code",
   "execution_count": 50,
   "metadata": {},
   "outputs": [
    {
     "name": "stdout",
     "output_type": "stream",
     "text": [
      "1580914134.301_2020-02-05-14-48-54.json 1580925833.838_2020-02-05-18-03-53.json\n"
     ]
    },
    {
     "data": {
      "text/plain": [
       "288.7339081612192"
      ]
     },
     "execution_count": 50,
     "metadata": {},
     "output_type": "execute_result"
    }
   ],
   "source": [
    "global_travel_time(files, '2020-02-05 00:00:01',99999)"
   ]
  },
  {
   "cell_type": "code",
   "execution_count": 61,
   "metadata": {},
   "outputs": [
    {
     "data": {
      "text/plain": [
       "['03', '04', '05', '06', '10', '11', '12', '13', '14', '17', '18']"
      ]
     },
     "execution_count": 61,
     "metadata": {},
     "output_type": "execute_result"
    }
   ],
   "source": [
    "Feb"
   ]
  },
  {
   "cell_type": "markdown",
   "metadata": {},
   "source": [
    "Checking if the day is not a weekend:"
   ]
  },
  {
   "cell_type": "code",
   "execution_count": 52,
   "metadata": {},
   "outputs": [
    {
     "data": {
      "text/plain": [
       "'Wednesday'"
      ]
     },
     "execution_count": 52,
     "metadata": {},
     "output_type": "execute_result"
    }
   ],
   "source": [
    "ts_to_weekday(get_unix_ts('2020-02-19 10:34:07'))"
   ]
  },
  {
   "cell_type": "code",
   "execution_count": 29,
   "metadata": {},
   "outputs": [],
   "source": [
    "def ts_to_weekday(ts):\n",
    "    d = date.fromtimestamp(ts)\n",
    "    return calendar.day_name[d.weekday()]"
   ]
  },
  {
   "cell_type": "code",
   "execution_count": 54,
   "metadata": {},
   "outputs": [
    {
     "name": "stdout",
     "output_type": "stream",
     "text": [
      "82 2020-01-27 17:04:39\n",
      "1580145080.811_2020-01-27-17-11-20.json 1580169380.466_2020-01-27-23-56-20.json\n",
      "Avg time: 216.3695127834057\n",
      "\n",
      "183 2020-01-27 23:56:40\n",
      "1580169680.704_2020-01-28-00-01-20.json 1580234638.748_2020-01-28-18-03-58.json\n",
      "Avg time: 246.8796933870339\n",
      "\n",
      "68 2020-01-29 10:14:08\n",
      "1580293072.924_2020-01-29-10-17-52.json 1580322418.600_2020-01-29-18-26-58.json\n",
      "Avg time: 257.95290315133326\n",
      "\n",
      "51 2020-01-30 13:49:39\n",
      "1580392383.849_2020-01-30-13-53-03.json 1580407383.985_2020-01-30-18-03-03.json\n",
      "Avg time: 283.88400812881036\n",
      "\n",
      "94 2020-01-31 10:11:40\n",
      "1580465989.487_2020-01-31-10-19-49.json 1580493889.008_2020-01-31-18-04-49.json\n",
      "Avg time: 262.62895326637334\n",
      "\n"
     ]
    }
   ],
   "source": [
    "for i in Jan:\n",
    "    file_dir=\"/media/tfc/btjourney/journeytimes/data_bin/2020/01/\"+i+\"/\"\n",
    "    files=sorted(os.listdir(file_dir))\n",
    "    ts=json.loads(read_file(file_dir+files[0]))[0][\"time\"]\n",
    "    print(len(files),ts)#, ts_to_day(get_unix_ts(ts))\n",
    "    #print(files[0][0])\n",
    "    print(\"Avg time: {}\\n\".format(global_travel_time(files, ts,9999999)))"
   ]
  },
  {
   "cell_type": "code",
   "execution_count": 55,
   "metadata": {},
   "outputs": [
    {
     "data": {
      "text/plain": [
       "['27', '28', '29', '30', '31']"
      ]
     },
     "execution_count": 55,
     "metadata": {},
     "output_type": "execute_result"
    }
   ],
   "source": [
    "Jan"
   ]
  },
  {
   "cell_type": "code",
   "execution_count": 56,
   "metadata": {},
   "outputs": [
    {
     "data": {
      "text/plain": [
       "['10', '11', '12', '13', '14']"
      ]
     },
     "execution_count": 56,
     "metadata": {},
     "output_type": "execute_result"
    }
   ],
   "source": [
    "week"
   ]
  },
  {
   "cell_type": "code",
   "execution_count": 57,
   "metadata": {},
   "outputs": [
    {
     "name": "stdout",
     "output_type": "stream",
     "text": [
      "1581675189.811_2020-02-14-10-13-09.json\n"
     ]
    },
    {
     "data": {
      "text/plain": [
       "{'id': 'CAMBRIDGE_JTMS|9800WBETRSU3',\n",
       " 'time': '2020-02-14 10:09:59',\n",
       " 'period': 300,\n",
       " 'travelTime': 118,\n",
       " 'normalTravelTime': 136.562}"
      ]
     },
     "execution_count": 57,
     "metadata": {},
     "output_type": "execute_result"
    }
   ],
   "source": [
    "file_dir=\"/media/tfc/btjourney/journeytimes/data_bin/2020/02/14/\"\n",
    "files=sorted(os.listdir(file_dir))\n",
    "print(files[0])\n",
    "json.loads(read_file(file_dir+files[0]))[0]#[0][\"time\"]"
   ]
  },
  {
   "cell_type": "code",
   "execution_count": 58,
   "metadata": {},
   "outputs": [
    {
     "data": {
      "text/plain": [
       "1581674999"
      ]
     },
     "execution_count": 58,
     "metadata": {},
     "output_type": "execute_result"
    }
   ],
   "source": [
    "get_unix_ts(\"2020-02-14 10:09:59\")"
   ]
  },
  {
   "cell_type": "code",
   "execution_count": 59,
   "metadata": {},
   "outputs": [
    {
     "name": "stdout",
     "output_type": "stream",
     "text": [
      "63 2020-02-10 13:15:28\n",
      "1581340818.035_2020-02-10-13-20-18.json 1581359418.021_2020-02-10-18-30-18.json\n",
      "Monday  Avg time: 251.89055930691808\n",
      "\n",
      "99 2020-02-11 10:04:09\n",
      "1581415624.984_2020-02-11-10-07-04.json 1581445025.055_2020-02-11-18-17-05.json\n",
      "Tuesday  Avg time: 258.8503764877338\n",
      "\n",
      "92 2020-02-12 10:34:07\n",
      "1581503849.441_2020-02-12-10-37-29.json 1581531149.585_2020-02-12-18-12-29.json\n",
      "Wednesday  Avg time: 259.08883943854846\n",
      "\n",
      "61 2020-02-13 13:08:38\n",
      "1581599672.693_2020-02-13-13-14-32.json 1581617829.275_2020-02-13-18-17-09.json\n",
      "Thursday  Avg time: 289.91396589873744\n",
      "\n",
      "139 2020-02-14 10:09:59\n",
      "1581675189.811_2020-02-14-10-13-09.json 1581716589.809_2020-02-14-21-43-09.json\n",
      "Friday  Avg time: 249.72636990302607\n",
      "\n"
     ]
    }
   ],
   "source": [
    "for i in week:\n",
    "    file_dir=\"/media/tfc/btjourney/journeytimes/data_bin/2020/02/\"+i+\"/\"\n",
    "    files=sorted(os.listdir(file_dir))\n",
    "    ts=json.loads(read_file(file_dir+files[0]))[0][\"time\"]\n",
    "    \n",
    "    print(len(files),ts)\n",
    "    \n",
    "    print(str(ts_to_weekday(get_unix_ts(ts))),\" Avg time: {}\\n\".format(global_travel_time(files, ts,9999999)))\n",
    "    "
   ]
  },
  {
   "cell_type": "code",
   "execution_count": 60,
   "metadata": {},
   "outputs": [
    {
     "data": {
      "text/plain": [
       "['1581675189.811_2020-02-14-10-13-09.json',\n",
       " '1581675489.851_2020-02-14-10-18-09.json',\n",
       " '1581675789.816_2020-02-14-10-23-09.json',\n",
       " '1581676089.805_2020-02-14-10-28-09.json',\n",
       " '1581676389.774_2020-02-14-10-33-09.json',\n",
       " '1581676689.829_2020-02-14-10-38-09.json',\n",
       " '1581676989.804_2020-02-14-10-43-09.json',\n",
       " '1581677289.871_2020-02-14-10-48-09.json',\n",
       " '1581677589.797_2020-02-14-10-53-09.json',\n",
       " '1581677889.794_2020-02-14-10-58-09.json',\n",
       " '1581678189.781_2020-02-14-11-03-09.json',\n",
       " '1581678489.804_2020-02-14-11-08-09.json',\n",
       " '1581678789.832_2020-02-14-11-13-09.json',\n",
       " '1581679089.775_2020-02-14-11-18-09.json',\n",
       " '1581679389.846_2020-02-14-11-23-09.json',\n",
       " '1581679689.777_2020-02-14-11-28-09.json',\n",
       " '1581679989.855_2020-02-14-11-33-09.json',\n",
       " '1581680289.778_2020-02-14-11-38-09.json',\n",
       " '1581680589.795_2020-02-14-11-43-09.json',\n",
       " '1581680889.836_2020-02-14-11-48-09.json',\n",
       " '1581681189.791_2020-02-14-11-53-09.json',\n",
       " '1581681489.791_2020-02-14-11-58-09.json',\n",
       " '1581681789.805_2020-02-14-12-03-09.json',\n",
       " '1581682089.808_2020-02-14-12-08-09.json',\n",
       " '1581682389.781_2020-02-14-12-13-09.json',\n",
       " '1581682689.861_2020-02-14-12-18-09.json',\n",
       " '1581682989.886_2020-02-14-12-23-09.json',\n",
       " '1581683289.810_2020-02-14-12-28-09.json',\n",
       " '1581683589.787_2020-02-14-12-33-09.json',\n",
       " '1581683889.770_2020-02-14-12-38-09.json',\n",
       " '1581684189.765_2020-02-14-12-43-09.json',\n",
       " '1581684489.979_2020-02-14-12-48-09.json',\n",
       " '1581684789.774_2020-02-14-12-53-09.json',\n",
       " '1581685089.895_2020-02-14-12-58-09.json',\n",
       " '1581685389.824_2020-02-14-13-03-09.json',\n",
       " '1581685689.789_2020-02-14-13-08-09.json',\n",
       " '1581685989.803_2020-02-14-13-13-09.json',\n",
       " '1581686289.818_2020-02-14-13-18-09.json',\n",
       " '1581686589.806_2020-02-14-13-23-09.json',\n",
       " '1581686889.782_2020-02-14-13-28-09.json',\n",
       " '1581687189.809_2020-02-14-13-33-09.json',\n",
       " '1581687489.910_2020-02-14-13-38-09.json',\n",
       " '1581687789.860_2020-02-14-13-43-09.json',\n",
       " '1581688089.892_2020-02-14-13-48-09.json',\n",
       " '1581688390.208_2020-02-14-13-53-10.json',\n",
       " '1581688689.837_2020-02-14-13-58-09.json',\n",
       " '1581688989.800_2020-02-14-14-03-09.json',\n",
       " '1581689290.094_2020-02-14-14-08-10.json',\n",
       " '1581689589.778_2020-02-14-14-13-09.json',\n",
       " '1581689889.782_2020-02-14-14-18-09.json',\n",
       " '1581690189.845_2020-02-14-14-23-09.json',\n",
       " '1581690489.930_2020-02-14-14-28-09.json',\n",
       " '1581690789.791_2020-02-14-14-33-09.json',\n",
       " '1581691089.833_2020-02-14-14-38-09.json',\n",
       " '1581691389.786_2020-02-14-14-43-09.json',\n",
       " '1581691689.890_2020-02-14-14-48-09.json',\n",
       " '1581691989.777_2020-02-14-14-53-09.json',\n",
       " '1581692289.802_2020-02-14-14-58-09.json',\n",
       " '1581692589.919_2020-02-14-15-03-09.json',\n",
       " '1581692889.840_2020-02-14-15-08-09.json',\n",
       " '1581693189.842_2020-02-14-15-13-09.json',\n",
       " '1581693489.827_2020-02-14-15-18-09.json',\n",
       " '1581693789.966_2020-02-14-15-23-09.json',\n",
       " '1581694089.787_2020-02-14-15-28-09.json',\n",
       " '1581694392.738_2020-02-14-15-33-12.json',\n",
       " '1581694689.848_2020-02-14-15-38-09.json',\n",
       " '1581694990.213_2020-02-14-15-43-10.json',\n",
       " '1581695289.907_2020-02-14-15-48-09.json',\n",
       " '1581695589.846_2020-02-14-15-53-09.json',\n",
       " '1581695889.807_2020-02-14-15-58-09.json',\n",
       " '1581696189.836_2020-02-14-16-03-09.json',\n",
       " '1581696490.103_2020-02-14-16-08-10.json',\n",
       " '1581696789.830_2020-02-14-16-13-09.json',\n",
       " '1581697089.851_2020-02-14-16-18-09.json',\n",
       " '1581697390.060_2020-02-14-16-23-10.json',\n",
       " '1581697689.774_2020-02-14-16-28-09.json',\n",
       " '1581697989.848_2020-02-14-16-33-09.json',\n",
       " '1581698289.811_2020-02-14-16-38-09.json',\n",
       " '1581698589.844_2020-02-14-16-43-09.json',\n",
       " '1581698889.991_2020-02-14-16-48-09.json',\n",
       " '1581699189.949_2020-02-14-16-53-09.json',\n",
       " '1581699489.859_2020-02-14-16-58-09.json',\n",
       " '1581699789.900_2020-02-14-17-03-09.json',\n",
       " '1581700089.809_2020-02-14-17-08-09.json',\n",
       " '1581700389.837_2020-02-14-17-13-09.json',\n",
       " '1581700689.945_2020-02-14-17-18-09.json',\n",
       " '1581700989.798_2020-02-14-17-23-09.json',\n",
       " '1581701289.968_2020-02-14-17-28-09.json',\n",
       " '1581701589.841_2020-02-14-17-33-09.json',\n",
       " '1581701889.977_2020-02-14-17-38-09.json',\n",
       " '1581702190.056_2020-02-14-17-43-10.json',\n",
       " '1581702490.015_2020-02-14-17-48-10.json',\n",
       " '1581702789.837_2020-02-14-17-53-09.json',\n",
       " '1581703089.955_2020-02-14-17-58-09.json',\n",
       " '1581703389.830_2020-02-14-18-03-09.json',\n",
       " '1581703689.859_2020-02-14-18-08-09.json',\n",
       " '1581703989.790_2020-02-14-18-13-09.json',\n",
       " '1581704289.891_2020-02-14-18-18-09.json',\n",
       " '1581704589.787_2020-02-14-18-23-09.json',\n",
       " '1581704889.840_2020-02-14-18-28-09.json',\n",
       " '1581705189.860_2020-02-14-18-33-09.json',\n",
       " '1581705489.951_2020-02-14-18-38-09.json',\n",
       " '1581705790.052_2020-02-14-18-43-10.json',\n",
       " '1581706090.140_2020-02-14-18-48-10.json',\n",
       " '1581706389.783_2020-02-14-18-53-09.json',\n",
       " '1581706689.982_2020-02-14-18-58-09.json',\n",
       " '1581706989.788_2020-02-14-19-03-09.json',\n",
       " '1581707289.873_2020-02-14-19-08-09.json',\n",
       " '1581707589.897_2020-02-14-19-13-09.json',\n",
       " '1581707889.810_2020-02-14-19-18-09.json',\n",
       " '1581708189.802_2020-02-14-19-23-09.json',\n",
       " '1581708489.841_2020-02-14-19-28-09.json',\n",
       " '1581708789.871_2020-02-14-19-33-09.json',\n",
       " '1581709089.945_2020-02-14-19-38-09.json',\n",
       " '1581709390.071_2020-02-14-19-43-10.json',\n",
       " '1581709690.000_2020-02-14-19-48-10.json',\n",
       " '1581709989.794_2020-02-14-19-53-09.json',\n",
       " '1581710289.838_2020-02-14-19-58-09.json',\n",
       " '1581710589.824_2020-02-14-20-03-09.json',\n",
       " '1581710889.797_2020-02-14-20-08-09.json',\n",
       " '1581711189.776_2020-02-14-20-13-09.json',\n",
       " '1581711489.999_2020-02-14-20-18-09.json',\n",
       " '1581711789.790_2020-02-14-20-23-09.json',\n",
       " '1581712089.788_2020-02-14-20-28-09.json',\n",
       " '1581712390.032_2020-02-14-20-33-10.json',\n",
       " '1581712689.829_2020-02-14-20-38-09.json',\n",
       " '1581712989.932_2020-02-14-20-43-09.json',\n",
       " '1581713290.008_2020-02-14-20-48-10.json',\n",
       " '1581713589.890_2020-02-14-20-53-09.json',\n",
       " '1581713889.990_2020-02-14-20-58-09.json',\n",
       " '1581714189.980_2020-02-14-21-03-09.json',\n",
       " '1581714489.857_2020-02-14-21-08-09.json',\n",
       " '1581714789.828_2020-02-14-21-13-09.json',\n",
       " '1581715089.782_2020-02-14-21-18-09.json',\n",
       " '1581715389.901_2020-02-14-21-23-09.json',\n",
       " '1581715689.779_2020-02-14-21-28-09.json',\n",
       " '1581715989.778_2020-02-14-21-33-09.json',\n",
       " '1581716289.821_2020-02-14-21-38-09.json',\n",
       " '1581716589.809_2020-02-14-21-43-09.json']"
      ]
     },
     "execution_count": 60,
     "metadata": {},
     "output_type": "execute_result"
    }
   ],
   "source": [
    "files=sorted(os.listdir(file_dir))\n",
    "files"
   ]
  },
  {
   "cell_type": "code",
   "execution_count": null,
   "metadata": {},
   "outputs": [],
   "source": []
  },
  {
   "cell_type": "code",
   "execution_count": null,
   "metadata": {},
   "outputs": [],
   "source": []
  },
  {
   "cell_type": "code",
   "execution_count": null,
   "metadata": {},
   "outputs": [],
   "source": []
  },
  {
   "cell_type": "code",
   "execution_count": null,
   "metadata": {},
   "outputs": [],
   "source": []
  }
 ],
 "metadata": {
  "kernelspec": {
   "display_name": "Python 3",
   "language": "python",
   "name": "python3"
  }
 },
 "nbformat": 4,
 "nbformat_minor": 2
}
