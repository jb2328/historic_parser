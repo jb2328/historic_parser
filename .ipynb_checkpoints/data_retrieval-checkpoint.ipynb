{
 "cells": [
  {
   "cell_type": "code",
   "execution_count": 37,
   "metadata": {},
   "outputs": [
    {
     "name": "stdout",
     "output_type": "stream",
     "text": [
      "Collecting simplejson\n",
      "  Using cached https://files.pythonhosted.org/packages/98/87/a7b98aa9256c8843f92878966dc3d8d914c14aad97e2c5ce4798d5743e07/simplejson-3.17.0.tar.gz\n",
      "Building wheels for collected packages: simplejson\n",
      "  Building wheel for simplejson (setup.py) ... \u001b[?25ldone\n",
      "\u001b[?25h  Stored in directory: /home/jb2328/.cache/pip/wheels/86/c0/83/dcd0339abb2640544bb8e0938aab2d069cef55e5647ce6e097\n",
      "Successfully built simplejson\n",
      "Installing collected packages: simplejson\n",
      "Successfully installed simplejson-3.17.0\n"
     ]
    }
   ],
   "source": [
    "!pip install simplejson"
   ]
  },
  {
   "cell_type": "code",
   "execution_count": 138,
   "metadata": {},
   "outputs": [],
   "source": [
    "import os\n",
    "import glob\n",
    "import simplejson as json\n",
    "\n",
    "import time\n",
    "import datetime\n",
    "from datetime import date\n",
    "import calendar\n",
    "\n",
    "import pandas"
   ]
  },
  {
   "cell_type": "code",
   "execution_count": 2,
   "metadata": {},
   "outputs": [
    {
     "data": {
      "text/plain": [
       "['27', '28', '29', '30', '31']"
      ]
     },
     "execution_count": 2,
     "metadata": {},
     "output_type": "execute_result"
    }
   ],
   "source": [
    "Jan=sorted(os.listdir(\"/media/tfc/btjourney/journeytimes/data_bin/2020/01\"))\n",
    "Jan"
   ]
  },
  {
   "cell_type": "code",
   "execution_count": 3,
   "metadata": {},
   "outputs": [
    {
     "data": {
      "text/plain": [
       "['03', '04', '05', '06', '10', '11', '12', '13', '14', '17', '18']"
      ]
     },
     "execution_count": 3,
     "metadata": {},
     "output_type": "execute_result"
    }
   ],
   "source": [
    "Feb=sorted(os.listdir(\"/media/tfc/btjourney/journeytimes/data_bin/2020/02\"))\n",
    "Feb"
   ]
  },
  {
   "cell_type": "code",
   "execution_count": 4,
   "metadata": {},
   "outputs": [
    {
     "data": {
      "text/plain": [
       "['10', '11', '12', '13', '14']"
      ]
     },
     "execution_count": 4,
     "metadata": {},
     "output_type": "execute_result"
    }
   ],
   "source": [
    "week=Feb[4:9]\n",
    "week"
   ]
  },
  {
   "cell_type": "code",
   "execution_count": 5,
   "metadata": {},
   "outputs": [
    {
     "name": "stdout",
     "output_type": "stream",
     "text": [
      "03\n",
      "04\n",
      "05\n",
      "06\n",
      "10\n",
      "11\n",
      "12\n",
      "13\n",
      "14\n",
      "17\n",
      "18\n"
     ]
    }
   ],
   "source": [
    "for i in Feb:\n",
    "    print(i)"
   ]
  },
  {
   "cell_type": "code",
   "execution_count": 16,
   "metadata": {},
   "outputs": [],
   "source": [
    "file_dir=\"/media/tfc/btjourney/journeytimes/data_bin/2020/02/\"+Feb[2]+\"/\""
   ]
  },
  {
   "cell_type": "code",
   "execution_count": 17,
   "metadata": {},
   "outputs": [],
   "source": [
    "files=sorted(os.listdir(file_dir))"
   ]
  },
  {
   "cell_type": "code",
   "execution_count": 18,
   "metadata": {},
   "outputs": [
    {
     "data": {
      "text/plain": [
       "['1580914134.301_2020-02-05-14-48-54.json',\n",
       " '1580914433.823_2020-02-05-14-53-53.json',\n",
       " '1580914733.837_2020-02-05-14-58-53.json',\n",
       " '1580915034.012_2020-02-05-15-03-54.json',\n",
       " '1580915334.011_2020-02-05-15-08-54.json',\n",
       " '1580915633.863_2020-02-05-15-13-53.json',\n",
       " '1580915933.843_2020-02-05-15-18-53.json',\n",
       " '1580916233.842_2020-02-05-15-23-53.json',\n",
       " '1580916533.911_2020-02-05-15-28-53.json',\n",
       " '1580916833.855_2020-02-05-15-33-53.json',\n",
       " '1580917133.924_2020-02-05-15-38-53.json',\n",
       " '1580917433.941_2020-02-05-15-43-53.json',\n",
       " '1580917734.025_2020-02-05-15-48-54.json',\n",
       " '1580918033.984_2020-02-05-15-53-53.json',\n",
       " '1580918333.946_2020-02-05-15-58-53.json',\n",
       " '1580918633.928_2020-02-05-16-03-53.json',\n",
       " '1580918933.940_2020-02-05-16-08-53.json',\n",
       " '1580919233.902_2020-02-05-16-13-53.json',\n",
       " '1580919533.915_2020-02-05-16-18-53.json',\n",
       " '1580919833.886_2020-02-05-16-23-53.json',\n",
       " '1580920133.856_2020-02-05-16-28-53.json',\n",
       " '1580920433.820_2020-02-05-16-33-53.json',\n",
       " '1580920733.883_2020-02-05-16-38-53.json',\n",
       " '1580921033.829_2020-02-05-16-43-53.json',\n",
       " '1580921333.909_2020-02-05-16-48-53.json',\n",
       " '1580921633.872_2020-02-05-16-53-53.json',\n",
       " '1580921933.993_2020-02-05-16-58-53.json',\n",
       " '1580922233.819_2020-02-05-17-03-53.json',\n",
       " '1580922533.872_2020-02-05-17-08-53.json',\n",
       " '1580922833.888_2020-02-05-17-13-53.json',\n",
       " '1580923133.898_2020-02-05-17-18-53.json',\n",
       " '1580923433.845_2020-02-05-17-23-53.json',\n",
       " '1580923733.862_2020-02-05-17-28-53.json',\n",
       " '1580924033.819_2020-02-05-17-33-53.json',\n",
       " '1580924333.865_2020-02-05-17-38-53.json',\n",
       " '1580924633.889_2020-02-05-17-43-53.json',\n",
       " '1580924933.983_2020-02-05-17-48-53.json',\n",
       " '1580925233.811_2020-02-05-17-53-53.json',\n",
       " '1580925533.898_2020-02-05-17-58-53.json',\n",
       " '1580925833.838_2020-02-05-18-03-53.json']"
      ]
     },
     "execution_count": 18,
     "metadata": {},
     "output_type": "execute_result"
    }
   ],
   "source": [
    "files"
   ]
  },
  {
   "cell_type": "code",
   "execution_count": 19,
   "metadata": {
    "scrolled": false
   },
   "outputs": [],
   "source": [
    "msg=read_file(file_dir+files[0])"
   ]
  },
  {
   "cell_type": "code",
   "execution_count": 20,
   "metadata": {},
   "outputs": [
    {
     "data": {
      "text/plain": [
       "'1580914134.301_2020-02-05-14-48-54.json'"
      ]
     },
     "execution_count": 20,
     "metadata": {},
     "output_type": "execute_result"
    }
   ],
   "source": [
    "files[0]"
   ]
  },
  {
   "cell_type": "code",
   "execution_count": 21,
   "metadata": {},
   "outputs": [],
   "source": [
    " msg_json=json.loads(msg)"
   ]
  },
  {
   "cell_type": "code",
   "execution_count": 22,
   "metadata": {},
   "outputs": [
    {
     "data": {
      "text/plain": [
       "144"
      ]
     },
     "execution_count": 22,
     "metadata": {},
     "output_type": "execute_result"
    }
   ],
   "source": [
    "len(msg_json)"
   ]
  },
  {
   "cell_type": "code",
   "execution_count": 23,
   "metadata": {},
   "outputs": [
    {
     "data": {
      "text/plain": [
       "{'id': 'CAMBRIDGE_JTMS|9800WBETRSU3',\n",
       " 'time': '2020-02-05 14:45:00',\n",
       " 'period': 300,\n",
       " 'travelTime': 126,\n",
       " 'normalTravelTime': 129.445}"
      ]
     },
     "execution_count": 23,
     "metadata": {},
     "output_type": "execute_result"
    }
   ],
   "source": [
    "msg_json[0]"
   ]
  },
  {
   "cell_type": "code",
   "execution_count": 24,
   "metadata": {},
   "outputs": [
    {
     "data": {
      "text/plain": [
       "'CAMBRIDGE_JTMS|9800WBETRSU3'"
      ]
     },
     "execution_count": 24,
     "metadata": {},
     "output_type": "execute_result"
    }
   ],
   "source": [
    "msg_json[0][\"id\"]"
   ]
  },
  {
   "cell_type": "code",
   "execution_count": 25,
   "metadata": {},
   "outputs": [
    {
     "ename": "AttributeError",
     "evalue": "'list' object has no attribute 'id'",
     "output_type": "error",
     "traceback": [
      "\u001b[0;31m---------------------------------------------------------------------------\u001b[0m",
      "\u001b[0;31mAttributeError\u001b[0m                            Traceback (most recent call last)",
      "\u001b[0;32m<ipython-input-25-7fa24eb45b16>\u001b[0m in \u001b[0;36m<module>\u001b[0;34m\u001b[0m\n\u001b[0;32m----> 1\u001b[0;31m \u001b[0mmsg_json\u001b[0m\u001b[0;34m.\u001b[0m\u001b[0mid\u001b[0m\u001b[0;34m\u001b[0m\u001b[0;34m\u001b[0m\u001b[0m\n\u001b[0m",
      "\u001b[0;31mAttributeError\u001b[0m: 'list' object has no attribute 'id'"
     ]
    }
   ],
   "source": [
    "msg_json.id"
   ]
  },
  {
   "cell_type": "code",
   "execution_count": 26,
   "metadata": {},
   "outputs": [
    {
     "data": {
      "text/plain": [
       "'2020-02-05 14:45:00'"
      ]
     },
     "execution_count": 26,
     "metadata": {},
     "output_type": "execute_result"
    }
   ],
   "source": [
    "t1=msg_json[0][\"time\"]\n",
    "t1"
   ]
  },
  {
   "cell_type": "code",
   "execution_count": 27,
   "metadata": {},
   "outputs": [
    {
     "data": {
      "text/plain": [
       "'2020-02-05 14:43:19'"
      ]
     },
     "execution_count": 27,
     "metadata": {},
     "output_type": "execute_result"
    }
   ],
   "source": [
    "t5=msg_json[10][\"time\"]\n",
    "t5"
   ]
  },
  {
   "cell_type": "code",
   "execution_count": 50,
   "metadata": {},
   "outputs": [
    {
     "data": {
      "text/plain": [
       "1580913799"
      ]
     },
     "execution_count": 50,
     "metadata": {},
     "output_type": "execute_result"
    }
   ],
   "source": [
    "get_unix_ts(t5)"
   ]
  },
  {
   "cell_type": "code",
   "execution_count": 114,
   "metadata": {},
   "outputs": [],
   "source": [
    "def get_unix_ts2(ts):\n",
    "    if(ts!=None):\n",
    "        return time.mktime(datetime.datetime.strptime(ts, \"%Y-%m-%d\").timetuple())"
   ]
  },
  {
   "cell_type": "code",
   "execution_count": 29,
   "metadata": {},
   "outputs": [],
   "source": [
    "def get_unix_ts(ts):\n",
    "    if(ts!=None):\n",
    "        return int(time.mktime(datetime.datetime.strptime(ts, \"%Y-%m-%d %H:%M:%S\").timetuple()))"
   ]
  },
  {
   "cell_type": "code",
   "execution_count": 30,
   "metadata": {},
   "outputs": [
    {
     "data": {
      "text/plain": [
       "'CAMBRIDGE_JTMS|9800WBETRSU3'"
      ]
     },
     "execution_count": 30,
     "metadata": {},
     "output_type": "execute_result"
    }
   ],
   "source": [
    "link=msg_json[0][\"id\"]\n",
    "link"
   ]
  },
  {
   "cell_type": "code",
   "execution_count": 31,
   "metadata": {},
   "outputs": [
    {
     "name": "stdout",
     "output_type": "stream",
     "text": [
      "Travel Time 126 Time 2020-02-05 14:45:00 Unix 1580913900\n",
      "Travel Time 130 Time 2020-02-05 14:49:16 Unix 1580914156\n",
      "Travel Time 138 Time 2020-02-05 14:53:42 Unix 1580914422\n",
      "Travel Time 130 Time 2020-02-05 14:59:12 Unix 1580914752\n",
      "Travel Time 130 Time 2020-02-05 15:03:41 Unix 1580915021\n",
      "Travel Time 127 Time 2020-02-05 15:09:07 Unix 1580915347\n",
      "Travel Time 136 Time 2020-02-05 15:14:58 Unix 1580915698\n",
      "Travel Time 133 Time 2020-02-05 15:16:59 Unix 1580915819\n",
      "Travel Time 126 Time 2020-02-05 15:24:59 Unix 1580916299\n",
      "Travel Time 138 Time 2020-02-05 15:30:00 Unix 1580916600\n",
      "Travel Time 118 Time 2020-02-05 15:34:18 Unix 1580916858\n",
      "Travel Time 118 Time 2020-02-05 15:38:42 Unix 1580917122\n",
      "Travel Time 127 Time 2020-02-05 15:45:17 Unix 1580917517\n",
      "Travel Time 124 Time 2020-02-05 15:48:49 Unix 1580917729\n",
      "Travel Time 134 Time 2020-02-05 15:55:34 Unix 1580918134\n",
      "Travel Time 135 Time 2020-02-05 15:59:27 Unix 1580918367\n",
      "Travel Time 126 Time 2020-02-05 16:04:57 Unix 1580918697\n",
      "Travel Time 133 Time 2020-02-05 16:09:13 Unix 1580918953\n",
      "Travel Time 130 Time 2020-02-05 16:14:45 Unix 1580919285\n",
      "Travel Time 136 Time 2020-02-05 16:19:49 Unix 1580919589\n",
      "Travel Time 140 Time 2020-02-05 16:25:02 Unix 1580919902\n",
      "Travel Time 137 Time 2020-02-05 16:29:27 Unix 1580920167\n",
      "Travel Time 139 Time 2020-02-05 16:34:19 Unix 1580920459\n",
      "Travel Time 133 Time 2020-02-05 16:39:26 Unix 1580920766\n",
      "Travel Time 139 Time 2020-02-05 16:45:03 Unix 1580921103\n",
      "Travel Time 134 Time 2020-02-05 16:49:33 Unix 1580921373\n",
      "Travel Time 129 Time 2020-02-05 16:53:41 Unix 1580921621\n",
      "Travel Time 138 Time 2020-02-05 16:59:36 Unix 1580921976\n",
      "Travel Time 128 Time 2020-02-05 17:04:33 Unix 1580922273\n",
      "Travel Time 133 Time 2020-02-05 17:08:42 Unix 1580922522\n",
      "Travel Time 127 Time 2020-02-05 17:13:52 Unix 1580922832\n",
      "Travel Time 136 Time 2020-02-05 17:19:28 Unix 1580923168\n",
      "Travel Time 148 Time 2020-02-05 17:24:53 Unix 1580923493\n",
      "Travel Time 148 Time 2020-02-05 17:27:59 Unix 1580923679\n",
      "Travel Time 150 Time 2020-02-05 17:34:16 Unix 1580924056\n",
      "Travel Time 148 Time 2020-02-05 17:40:21 Unix 1580924421\n",
      "Travel Time 152 Time 2020-02-05 17:44:37 Unix 1580924677\n",
      "Travel Time 151 Time 2020-02-05 17:49:15 Unix 1580924955\n",
      "Travel Time 136 Time 2020-02-05 17:54:08 Unix 1580925248\n",
      "Travel Time 139 Time 2020-02-05 17:58:21 Unix 1580925501\n"
     ]
    }
   ],
   "source": [
    "\n",
    "for i in range(0, len(files)):\n",
    "    msg_json=json.loads(read_file(file_dir+files[i]))\n",
    "    for i in range(0, len(msg_json)):\n",
    "        if(msg_json[i][\"id\"]==link):\n",
    "            print(\"Travel Time {}\".format(msg_json[i][\"travelTime\"]), \"Time {}\".format(msg_json[i][\"time\"]), \"Unix {}\".format(get_unix_ts(msg_json[i][\"time\"])))"
   ]
  },
  {
   "cell_type": "code",
   "execution_count": 107,
   "metadata": {},
   "outputs": [],
   "source": [
    "def ts_to_day(ts):\n",
    "    return time.strftime(\"%w\", time.gmtime(ts/1000))"
   ]
  },
  {
   "cell_type": "code",
   "execution_count": 167,
   "metadata": {},
   "outputs": [],
   "source": [
    "# Python program to get average of a list \n",
    "def get_avg(lst): \n",
    "    #res = [i for i in lst if i] \n",
    "    #print(res)\n",
    "    if(len(lst)>0):\n",
    "        return sum(lst) / len(lst) "
   ]
  },
  {
   "cell_type": "code",
   "execution_count": 34,
   "metadata": {},
   "outputs": [],
   "source": [
    "def read_file(file):\n",
    "    \"\"\"Gets the first line from a file.\n",
    "\n",
    "    Returns\n",
    "    -------\n",
    "    str\n",
    "        the first line text of the input file\n",
    "    \"\"\"\n",
    "    with open(file, 'rt') as fd:\n",
    "        first_line = fd.readline()\n",
    "    return first_line"
   ]
  },
  {
   "cell_type": "code",
   "execution_count": 35,
   "metadata": {},
   "outputs": [],
   "source": [
    "file_dir=\"/media/tfc/btjourney/journeytimes/data_bin/2020/02/\"+Feb[2]+\"/\"\n",
    "files=sorted(os.listdir(file_dir))\n"
   ]
  },
  {
   "cell_type": "code",
   "execution_count": 161,
   "metadata": {},
   "outputs": [],
   "source": [
    "def global_travel_time(files,ts,duration):\n",
    "    avg_tt=[]\n",
    "    print(files[0], files[len(files)-1])\n",
    "    for i in range(0, len(files)):\n",
    "        msg_json=json.loads(read_file(file_dir+files[i]))\n",
    "        for i in range(0, len(msg_json)):\n",
    "            if(msg_json[i][\"travelTime\"]!=None):\n",
    "                if((get_unix_ts(msg_json[i][\"time\"])-get_unix_ts(ts)<duration)and(get_unix_ts(msg_json[i][\"time\"])-get_unix_ts(ts)>=0) ):\n",
    "                    avg_tt.append(msg_json[i][\"travelTime\"])\n",
    "    return get_avg(avg_tt)"
   ]
  },
  {
   "cell_type": "code",
   "execution_count": 157,
   "metadata": {},
   "outputs": [],
   "source": [
    "def get_link_travel_time(files,link,ts,duration):\n",
    "    avg_tt=[]\n",
    "    for i in range(0, len(files)):\n",
    "        msg_json=json.loads(read_file(file_dir+files[i]))\n",
    "        for i in range(0, len(msg_json)):\n",
    "            if((msg_json[i][\"id\"]==link) and (get_unix_ts(msg_json[i][\"time\"])-get_unix_ts(ts)<duration)and(get_unix_ts(msg_json[i][\"time\"])-get_unix_ts(ts)>=0) ):\n",
    "                avg_tt.append(msg_json[i][\"travelTime\"])\n",
    "                print(\"Travel Time {}\".format(msg_json[i][\"travelTime\"]), \"Time {}\".format(msg_json[i][\"time\"]), \"Unix {}\".format(get_unix_ts(msg_json[i][\"time\"])))\n",
    "    print(\"\\n\",get_avg(avg_tt))"
   ]
  },
  {
   "cell_type": "code",
   "execution_count": 158,
   "metadata": {},
   "outputs": [
    {
     "name": "stdout",
     "output_type": "stream",
     "text": [
      "1580169680.704_2020-01-28-00-01-20.json 1580234638.748_2020-01-28-18-03-58.json\n"
     ]
    },
    {
     "ename": "ZeroDivisionError",
     "evalue": "division by zero",
     "output_type": "error",
     "traceback": [
      "\u001b[0;31m---------------------------------------------------------------------------\u001b[0m",
      "\u001b[0;31mZeroDivisionError\u001b[0m                         Traceback (most recent call last)",
      "\u001b[0;32m<ipython-input-158-4bf70a0f8853>\u001b[0m in \u001b[0;36m<module>\u001b[0;34m\u001b[0m\n\u001b[0;32m----> 1\u001b[0;31m \u001b[0mglobal_travel_time\u001b[0m\u001b[0;34m(\u001b[0m\u001b[0mfiles\u001b[0m\u001b[0;34m,\u001b[0m \u001b[0;34m'2020-02-05 00:00:01'\u001b[0m\u001b[0;34m,\u001b[0m\u001b[0;36m99999\u001b[0m\u001b[0;34m)\u001b[0m\u001b[0;34m\u001b[0m\u001b[0;34m\u001b[0m\u001b[0m\n\u001b[0m",
      "\u001b[0;32m<ipython-input-156-89c339dda0dc>\u001b[0m in \u001b[0;36mglobal_travel_time\u001b[0;34m(files, ts, duration)\u001b[0m\n\u001b[1;32m      8\u001b[0m                 \u001b[0;32mif\u001b[0m\u001b[0;34m(\u001b[0m\u001b[0mmsg_json\u001b[0m\u001b[0;34m[\u001b[0m\u001b[0mi\u001b[0m\u001b[0;34m]\u001b[0m\u001b[0;34m[\u001b[0m\u001b[0;34m\"travelTime\"\u001b[0m\u001b[0;34m]\u001b[0m\u001b[0;34m!=\u001b[0m\u001b[0;32mNone\u001b[0m\u001b[0;34m)\u001b[0m\u001b[0;34m:\u001b[0m\u001b[0;34m\u001b[0m\u001b[0;34m\u001b[0m\u001b[0m\n\u001b[1;32m      9\u001b[0m                     \u001b[0mavg_tt\u001b[0m\u001b[0;34m.\u001b[0m\u001b[0mappend\u001b[0m\u001b[0;34m(\u001b[0m\u001b[0mmsg_json\u001b[0m\u001b[0;34m[\u001b[0m\u001b[0mi\u001b[0m\u001b[0;34m]\u001b[0m\u001b[0;34m[\u001b[0m\u001b[0;34m\"travelTime\"\u001b[0m\u001b[0;34m]\u001b[0m\u001b[0;34m)\u001b[0m\u001b[0;34m\u001b[0m\u001b[0;34m\u001b[0m\u001b[0m\n\u001b[0;32m---> 10\u001b[0;31m     \u001b[0;32mreturn\u001b[0m \u001b[0mget_avg\u001b[0m\u001b[0;34m(\u001b[0m\u001b[0mavg_tt\u001b[0m\u001b[0;34m)\u001b[0m\u001b[0;34m\u001b[0m\u001b[0;34m\u001b[0m\u001b[0m\n\u001b[0m",
      "\u001b[0;32m<ipython-input-154-3878ca21ed48>\u001b[0m in \u001b[0;36mget_avg\u001b[0;34m(lst)\u001b[0m\n\u001b[1;32m      2\u001b[0m \u001b[0;32mdef\u001b[0m \u001b[0mget_avg\u001b[0m\u001b[0;34m(\u001b[0m\u001b[0mlst\u001b[0m\u001b[0;34m)\u001b[0m\u001b[0;34m:\u001b[0m\u001b[0;34m\u001b[0m\u001b[0;34m\u001b[0m\u001b[0m\n\u001b[1;32m      3\u001b[0m     \u001b[0mres\u001b[0m \u001b[0;34m=\u001b[0m \u001b[0;34m[\u001b[0m\u001b[0mi\u001b[0m \u001b[0;32mfor\u001b[0m \u001b[0mi\u001b[0m \u001b[0;32min\u001b[0m \u001b[0mlst\u001b[0m \u001b[0;32mif\u001b[0m \u001b[0mi\u001b[0m\u001b[0;34m]\u001b[0m\u001b[0;34m\u001b[0m\u001b[0;34m\u001b[0m\u001b[0m\n\u001b[0;32m----> 4\u001b[0;31m     \u001b[0;32mreturn\u001b[0m \u001b[0msum\u001b[0m\u001b[0;34m(\u001b[0m\u001b[0mres\u001b[0m\u001b[0;34m)\u001b[0m \u001b[0;34m/\u001b[0m \u001b[0mlen\u001b[0m\u001b[0;34m(\u001b[0m\u001b[0mres\u001b[0m\u001b[0;34m)\u001b[0m\u001b[0;34m\u001b[0m\u001b[0;34m\u001b[0m\u001b[0m\n\u001b[0m",
      "\u001b[0;31mZeroDivisionError\u001b[0m: division by zero"
     ]
    }
   ],
   "source": [
    "global_travel_time(files, '2020-02-05 00:00:01',99999)"
   ]
  },
  {
   "cell_type": "code",
   "execution_count": 152,
   "metadata": {
    "scrolled": false
   },
   "outputs": [
    {
     "name": "stdout",
     "output_type": "stream",
     "text": [
      "Travel Time 118 Time 2020-02-14 10:09:59 Unix 1581674999\n",
      "Travel Time 125 Time 2020-02-14 10:15:06 Unix 1581675306\n",
      "Travel Time 126 Time 2020-02-14 10:16:40 Unix 1581675400\n",
      "Travel Time 117 Time 2020-02-14 10:25:15 Unix 1581675915\n",
      "Travel Time 121 Time 2020-02-14 10:30:05 Unix 1581676205\n",
      "Travel Time 121 Time 2020-02-14 10:32:49 Unix 1581676369\n",
      "Travel Time 116 Time 2020-02-14 10:37:02 Unix 1581676622\n",
      "Travel Time 124 Time 2020-02-14 10:42:30 Unix 1581676950\n",
      "Travel Time 124 Time 2020-02-14 10:47:15 Unix 1581677235\n",
      "Travel Time 114 Time 2020-02-14 10:51:40 Unix 1581677500\n",
      "Travel Time 120 Time 2020-02-14 10:59:39 Unix 1581677979\n",
      "Travel Time 151 Time 2020-02-14 11:04:46 Unix 1581678286\n",
      "Travel Time 155 Time 2020-02-14 11:08:40 Unix 1581678520\n",
      "Travel Time 162 Time 2020-02-14 11:14:35 Unix 1581678875\n",
      "Travel Time 164 Time 2020-02-14 11:19:23 Unix 1581679163\n",
      "Travel Time 217 Time 2020-02-14 11:21:40 Unix 1581679300\n",
      "Travel Time 155 Time 2020-02-14 11:29:47 Unix 1581679787\n",
      "Travel Time 132 Time 2020-02-14 11:31:40 Unix 1581679900\n",
      "Travel Time 152 Time 2020-02-14 11:37:00 Unix 1581680220\n",
      "Travel Time 126 Time 2020-02-14 11:43:15 Unix 1581680595\n",
      "Travel Time 134 Time 2020-02-14 11:50:15 Unix 1581681015\n",
      "Travel Time 135 Time 2020-02-14 11:54:22 Unix 1581681262\n",
      "Travel Time 130 Time 2020-02-14 11:57:20 Unix 1581681440\n",
      "Travel Time 140 Time 2020-02-14 12:02:22 Unix 1581681742\n",
      "Travel Time 127 Time 2020-02-14 12:10:12 Unix 1581682212\n",
      "Travel Time 122 Time 2020-02-14 12:12:43 Unix 1581682363\n",
      "Travel Time 120 Time 2020-02-14 12:19:12 Unix 1581682752\n",
      "Travel Time 112 Time 2020-02-14 12:24:14 Unix 1581683054\n",
      "Travel Time 123 Time 2020-02-14 12:30:02 Unix 1581683402\n",
      "Travel Time 126 Time 2020-02-14 12:34:44 Unix 1581683684\n",
      "Travel Time 131 Time 2020-02-14 12:39:27 Unix 1581683967\n",
      "Travel Time 130 Time 2020-02-14 12:43:09 Unix 1581684189\n",
      "Travel Time 120 Time 2020-02-14 12:48:29 Unix 1581684509\n",
      "Travel Time 129 Time 2020-02-14 12:51:40 Unix 1581684700\n",
      "Travel Time 131 Time 2020-02-14 12:59:47 Unix 1581685187\n",
      "Travel Time 131 Time 2020-02-14 13:01:40 Unix 1581685300\n",
      "Travel Time 132 Time 2020-02-14 13:09:52 Unix 1581685792\n",
      "Travel Time 133 Time 2020-02-14 13:13:45 Unix 1581686025\n",
      "Travel Time 130 Time 2020-02-14 13:19:14 Unix 1581686354\n",
      "Travel Time 129 Time 2020-02-14 13:24:49 Unix 1581686689\n",
      "Travel Time 130 Time 2020-02-14 13:29:11 Unix 1581686951\n",
      "Travel Time 114 Time 2020-02-14 13:34:49 Unix 1581687289\n",
      "Travel Time 113 Time 2020-02-14 13:39:02 Unix 1581687542\n",
      "Travel Time 115 Time 2020-02-14 13:43:28 Unix 1581687808\n",
      "Travel Time 125 Time 2020-02-14 13:49:32 Unix 1581688172\n",
      "Travel Time 128 Time 2020-02-14 13:51:40 Unix 1581688300\n",
      "Travel Time 122 Time 2020-02-14 13:59:25 Unix 1581688765\n",
      "Travel Time 134 Time 2020-02-14 14:04:57 Unix 1581689097\n",
      "Travel Time 110 Time 2020-02-14 14:09:52 Unix 1581689392\n",
      "Travel Time 122 Time 2020-02-14 14:14:55 Unix 1581689695\n",
      "Travel Time 130 Time 2020-02-14 14:19:49 Unix 1581689989\n",
      "Travel Time 127 Time 2020-02-14 14:21:40 Unix 1581690100\n",
      "Travel Time 137 Time 2020-02-14 14:29:21 Unix 1581690561\n",
      "Travel Time 121 Time 2020-02-14 14:34:22 Unix 1581690862\n",
      "Travel Time 127 Time 2020-02-14 14:39:31 Unix 1581691171\n",
      "Travel Time 136 Time 2020-02-14 14:42:38 Unix 1581691358\n",
      "Travel Time 128 Time 2020-02-14 14:48:37 Unix 1581691717\n",
      "Travel Time 122 Time 2020-02-14 14:54:36 Unix 1581692076\n",
      "Travel Time 122 Time 2020-02-14 14:59:05 Unix 1581692345\n",
      "Travel Time 123 Time 2020-02-14 15:03:29 Unix 1581692609\n",
      "Travel Time 122 Time 2020-02-14 15:09:15 Unix 1581692955\n",
      "Travel Time 123 Time 2020-02-14 15:15:00 Unix 1581693300\n",
      "Travel Time 123 Time 2020-02-14 15:19:56 Unix 1581693596\n",
      "Travel Time 122 Time 2020-02-14 15:25:11 Unix 1581693911\n",
      "Travel Time 128 Time 2020-02-14 15:30:00 Unix 1581694200\n",
      "Travel Time 128 Time 2020-02-14 15:34:45 Unix 1581694485\n",
      "Travel Time 129 Time 2020-02-14 15:38:56 Unix 1581694736\n",
      "Travel Time 133 Time 2020-02-14 15:45:03 Unix 1581695103\n",
      "Travel Time 135 Time 2020-02-14 15:48:44 Unix 1581695324\n",
      "Travel Time 130 Time 2020-02-14 15:54:01 Unix 1581695641\n",
      "Travel Time 130 Time 2020-02-14 15:58:18 Unix 1581695898\n",
      "Travel Time 130 Time 2020-02-14 16:04:33 Unix 1581696273\n",
      "Travel Time 127 Time 2020-02-14 16:07:32 Unix 1581696452\n",
      "Travel Time 125 Time 2020-02-14 16:15:11 Unix 1581696911\n",
      "Travel Time 126 Time 2020-02-14 16:18:10 Unix 1581697090\n",
      "Travel Time 137 Time 2020-02-14 16:25:17 Unix 1581697517\n",
      "Travel Time 137 Time 2020-02-14 16:29:26 Unix 1581697766\n",
      "Travel Time 132 Time 2020-02-14 16:35:14 Unix 1581698114\n",
      "Travel Time 134 Time 2020-02-14 16:40:07 Unix 1581698407\n",
      "Travel Time 138 Time 2020-02-14 16:44:33 Unix 1581698673\n",
      "Travel Time 140 Time 2020-02-14 16:47:23 Unix 1581698843\n",
      "Travel Time 139 Time 2020-02-14 16:54:58 Unix 1581699298\n",
      "Travel Time 143 Time 2020-02-14 17:00:03 Unix 1581699603\n",
      "Travel Time 129 Time 2020-02-14 17:05:07 Unix 1581699907\n",
      "Travel Time 139 Time 2020-02-14 17:09:32 Unix 1581700172\n",
      "Travel Time 134 Time 2020-02-14 17:14:28 Unix 1581700468\n",
      "Travel Time 167 Time 2020-02-14 17:19:33 Unix 1581700773\n",
      "Travel Time 149 Time 2020-02-14 17:24:38 Unix 1581701078\n",
      "Travel Time 151 Time 2020-02-14 17:30:12 Unix 1581701412\n",
      "Travel Time 136 Time 2020-02-14 17:32:54 Unix 1581701574\n",
      "Travel Time 137 Time 2020-02-14 17:39:44 Unix 1581701984\n",
      "Travel Time 128 Time 2020-02-14 17:44:42 Unix 1581702282\n",
      "Travel Time 133 Time 2020-02-14 17:50:09 Unix 1581702609\n",
      "Travel Time 136 Time 2020-02-14 17:54:22 Unix 1581702862\n",
      "Travel Time 129 Time 2020-02-14 17:59:54 Unix 1581703194\n",
      "Travel Time 125 Time 2020-02-14 18:04:45 Unix 1581703485\n",
      "Travel Time 137 Time 2020-02-14 18:08:48 Unix 1581703728\n",
      "Travel Time 130 Time 2020-02-14 18:11:41 Unix 1581703901\n",
      "Travel Time 127 Time 2020-02-14 18:19:26 Unix 1581704366\n",
      "Travel Time 130 Time 2020-02-14 18:23:51 Unix 1581704631\n",
      "Travel Time 126 Time 2020-02-14 18:28:53 Unix 1581704933\n",
      "Travel Time 139 Time 2020-02-14 18:34:59 Unix 1581705299\n",
      "Travel Time 132 Time 2020-02-14 18:40:02 Unix 1581705602\n",
      "Travel Time 132 Time 2020-02-14 18:44:52 Unix 1581705892\n",
      "Travel Time 125 Time 2020-02-14 18:47:31 Unix 1581706051\n",
      "Travel Time 123 Time 2020-02-14 18:51:40 Unix 1581706300\n",
      "Travel Time 133 Time 2020-02-14 18:59:46 Unix 1581706786\n",
      "Travel Time 127 Time 2020-02-14 19:05:06 Unix 1581707106\n",
      "Travel Time 125 Time 2020-02-14 19:06:40 Unix 1581707200\n",
      "Travel Time 138 Time 2020-02-14 19:11:40 Unix 1581707500\n",
      "Travel Time 140 Time 2020-02-14 19:18:58 Unix 1581707938\n",
      "Travel Time 141 Time 2020-02-14 19:21:40 Unix 1581708100\n",
      "Travel Time 129 Time 2020-02-14 19:29:14 Unix 1581708554\n",
      "Travel Time 126 Time 2020-02-14 19:31:40 Unix 1581708700\n",
      "Travel Time 115 Time 2020-02-14 19:36:40 Unix 1581709000\n",
      "Travel Time 140 Time 2020-02-14 19:43:39 Unix 1581709419\n",
      "Travel Time 140 Time 2020-02-14 19:46:40 Unix 1581709600\n",
      "Travel Time 133 Time 2020-02-14 19:54:44 Unix 1581710084\n",
      "Travel Time 125 Time 2020-02-14 20:00:04 Unix 1581710404\n",
      "Travel Time 114 Time 2020-02-14 20:04:30 Unix 1581710670\n",
      "Travel Time 118 Time 2020-02-14 20:07:45 Unix 1581710865\n",
      "Travel Time 118 Time 2020-02-14 20:11:40 Unix 1581711100\n",
      "Travel Time 120 Time 2020-02-14 20:19:20 Unix 1581711560\n",
      "Travel Time 137 Time 2020-02-14 20:21:40 Unix 1581711700\n",
      "Travel Time 132 Time 2020-02-14 20:28:50 Unix 1581712130\n",
      "Travel Time 132 Time 2020-02-14 20:31:41 Unix 1581712301\n",
      "Travel Time 126 Time 2020-02-14 20:39:44 Unix 1581712784\n",
      "Travel Time 127 Time 2020-02-14 20:41:40 Unix 1581712900\n",
      "Travel Time 127 Time 2020-02-14 20:48:49 Unix 1581713329\n",
      "Travel Time 127 Time 2020-02-14 20:51:40 Unix 1581713500\n",
      "Travel Time 127 Time 2020-02-14 20:56:38 Unix 1581713798\n",
      "Travel Time 125 Time 2020-02-14 21:01:38 Unix 1581714098\n",
      "Travel Time None Time 2020-02-14 21:11:38 Unix 1581714698\n",
      "Travel Time None Time 2020-02-14 21:16:38 Unix 1581714998\n",
      "Travel Time 126 Time 2020-02-14 21:18:45 Unix 1581715125\n",
      "Travel Time 126 Time 2020-02-14 21:21:38 Unix 1581715298\n",
      "Travel Time 126 Time 2020-02-14 21:26:40 Unix 1581715600\n",
      "Travel Time 110 Time 2020-02-14 21:31:40 Unix 1581715900\n",
      "Travel Time 99 Time 2020-02-14 21:36:40 Unix 1581716200\n"
     ]
    },
    {
     "ename": "TypeError",
     "evalue": "unsupported operand type(s) for +: 'int' and 'NoneType'",
     "output_type": "error",
     "traceback": [
      "\u001b[0;31m---------------------------------------------------------------------------\u001b[0m",
      "\u001b[0;31mTypeError\u001b[0m                                 Traceback (most recent call last)",
      "\u001b[0;32m<ipython-input-152-28f18088736b>\u001b[0m in \u001b[0;36m<module>\u001b[0;34m\u001b[0m\n\u001b[0;32m----> 1\u001b[0;31m \u001b[0mget_link_travel_time\u001b[0m\u001b[0;34m(\u001b[0m\u001b[0mfiles\u001b[0m\u001b[0;34m,\u001b[0m\u001b[0;34m'CAMBRIDGE_JTMS|9800WBETRSU3'\u001b[0m\u001b[0;34m,\u001b[0m\u001b[0;34m'2020-02-05 16:25:02'\u001b[0m\u001b[0;34m,\u001b[0m\u001b[0;36m999999\u001b[0m\u001b[0;34m)\u001b[0m\u001b[0;34m\u001b[0m\u001b[0;34m\u001b[0m\u001b[0m\n\u001b[0m",
      "\u001b[0;32m<ipython-input-37-369ebc62bb4a>\u001b[0m in \u001b[0;36mget_link_travel_time\u001b[0;34m(files, link, ts, duration)\u001b[0m\n\u001b[1;32m      7\u001b[0m                 \u001b[0mavg_tt\u001b[0m\u001b[0;34m.\u001b[0m\u001b[0mappend\u001b[0m\u001b[0;34m(\u001b[0m\u001b[0mmsg_json\u001b[0m\u001b[0;34m[\u001b[0m\u001b[0mi\u001b[0m\u001b[0;34m]\u001b[0m\u001b[0;34m[\u001b[0m\u001b[0;34m\"travelTime\"\u001b[0m\u001b[0;34m]\u001b[0m\u001b[0;34m)\u001b[0m\u001b[0;34m\u001b[0m\u001b[0;34m\u001b[0m\u001b[0m\n\u001b[1;32m      8\u001b[0m                 \u001b[0mprint\u001b[0m\u001b[0;34m(\u001b[0m\u001b[0;34m\"Travel Time {}\"\u001b[0m\u001b[0;34m.\u001b[0m\u001b[0mformat\u001b[0m\u001b[0;34m(\u001b[0m\u001b[0mmsg_json\u001b[0m\u001b[0;34m[\u001b[0m\u001b[0mi\u001b[0m\u001b[0;34m]\u001b[0m\u001b[0;34m[\u001b[0m\u001b[0;34m\"travelTime\"\u001b[0m\u001b[0;34m]\u001b[0m\u001b[0;34m)\u001b[0m\u001b[0;34m,\u001b[0m \u001b[0;34m\"Time {}\"\u001b[0m\u001b[0;34m.\u001b[0m\u001b[0mformat\u001b[0m\u001b[0;34m(\u001b[0m\u001b[0mmsg_json\u001b[0m\u001b[0;34m[\u001b[0m\u001b[0mi\u001b[0m\u001b[0;34m]\u001b[0m\u001b[0;34m[\u001b[0m\u001b[0;34m\"time\"\u001b[0m\u001b[0;34m]\u001b[0m\u001b[0;34m)\u001b[0m\u001b[0;34m,\u001b[0m \u001b[0;34m\"Unix {}\"\u001b[0m\u001b[0;34m.\u001b[0m\u001b[0mformat\u001b[0m\u001b[0;34m(\u001b[0m\u001b[0mget_unix_ts\u001b[0m\u001b[0;34m(\u001b[0m\u001b[0mmsg_json\u001b[0m\u001b[0;34m[\u001b[0m\u001b[0mi\u001b[0m\u001b[0;34m]\u001b[0m\u001b[0;34m[\u001b[0m\u001b[0;34m\"time\"\u001b[0m\u001b[0;34m]\u001b[0m\u001b[0;34m)\u001b[0m\u001b[0;34m)\u001b[0m\u001b[0;34m)\u001b[0m\u001b[0;34m\u001b[0m\u001b[0;34m\u001b[0m\u001b[0m\n\u001b[0;32m----> 9\u001b[0;31m     \u001b[0mprint\u001b[0m\u001b[0;34m(\u001b[0m\u001b[0;34m\"\\n\"\u001b[0m\u001b[0;34m,\u001b[0m\u001b[0mget_avg\u001b[0m\u001b[0;34m(\u001b[0m\u001b[0mavg_tt\u001b[0m\u001b[0;34m)\u001b[0m\u001b[0;34m)\u001b[0m\u001b[0;34m\u001b[0m\u001b[0;34m\u001b[0m\u001b[0m\n\u001b[0m",
      "\u001b[0;32m<ipython-input-33-7c8d2e365939>\u001b[0m in \u001b[0;36mget_avg\u001b[0;34m(lst)\u001b[0m\n\u001b[1;32m      1\u001b[0m \u001b[0;31m# Python program to get average of a list\u001b[0m\u001b[0;34m\u001b[0m\u001b[0;34m\u001b[0m\u001b[0;34m\u001b[0m\u001b[0m\n\u001b[1;32m      2\u001b[0m \u001b[0;32mdef\u001b[0m \u001b[0mget_avg\u001b[0m\u001b[0;34m(\u001b[0m\u001b[0mlst\u001b[0m\u001b[0;34m)\u001b[0m\u001b[0;34m:\u001b[0m\u001b[0;34m\u001b[0m\u001b[0;34m\u001b[0m\u001b[0m\n\u001b[0;32m----> 3\u001b[0;31m     \u001b[0;32mreturn\u001b[0m \u001b[0msum\u001b[0m\u001b[0;34m(\u001b[0m\u001b[0mlst\u001b[0m\u001b[0;34m)\u001b[0m \u001b[0;34m/\u001b[0m \u001b[0mlen\u001b[0m\u001b[0;34m(\u001b[0m\u001b[0mlst\u001b[0m\u001b[0;34m)\u001b[0m\u001b[0;34m\u001b[0m\u001b[0;34m\u001b[0m\u001b[0m\n\u001b[0m",
      "\u001b[0;31mTypeError\u001b[0m: unsupported operand type(s) for +: 'int' and 'NoneType'"
     ]
    }
   ],
   "source": [
    "get_link_travel_time(files,'CAMBRIDGE_JTMS|9800WBETRSU3','2020-02-05 16:25:02',999999)"
   ]
  },
  {
   "cell_type": "markdown",
   "metadata": {},
   "source": [
    "Checking if the day is not a weekend:"
   ]
  },
  {
   "cell_type": "code",
   "execution_count": 142,
   "metadata": {},
   "outputs": [
    {
     "data": {
      "text/plain": [
       "'Wednesday'"
      ]
     },
     "execution_count": 142,
     "metadata": {},
     "output_type": "execute_result"
    }
   ],
   "source": [
    "ts_to_weekday(get_unix_ts('2020-02-19 10:34:07'))"
   ]
  },
  {
   "cell_type": "code",
   "execution_count": 141,
   "metadata": {},
   "outputs": [],
   "source": [
    "def ts_to_weekday(ts):\n",
    "    d = date.fromtimestamp(ts)\n",
    "    return calendar.day_name[d.weekday()]"
   ]
  },
  {
   "cell_type": "code",
   "execution_count": 169,
   "metadata": {},
   "outputs": [
    {
     "name": "stdout",
     "output_type": "stream",
     "text": [
      "82 2020-01-27 17:04:39\n",
      "1580145080.811_2020-01-27-17-11-20.json 1580169380.466_2020-01-27-23-56-20.json\n",
      "Avg time: 216.3695127834057\n",
      "\n",
      "183 2020-01-27 23:56:40\n",
      "1580169680.704_2020-01-28-00-01-20.json 1580234638.748_2020-01-28-18-03-58.json\n",
      "Avg time: 246.8796933870339\n",
      "\n",
      "68 2020-01-29 10:14:08\n",
      "1580293072.924_2020-01-29-10-17-52.json 1580322418.600_2020-01-29-18-26-58.json\n",
      "Avg time: 257.95290315133326\n",
      "\n",
      "51 2020-01-30 13:49:39\n",
      "1580392383.849_2020-01-30-13-53-03.json 1580407383.985_2020-01-30-18-03-03.json\n",
      "Avg time: 283.88400812881036\n",
      "\n",
      "94 2020-01-31 10:11:40\n",
      "1580465989.487_2020-01-31-10-19-49.json 1580493889.008_2020-01-31-18-04-49.json\n",
      "Avg time: 262.62895326637334\n",
      "\n"
     ]
    }
   ],
   "source": [
    "for i in Jan:\n",
    "    file_dir=\"/media/tfc/btjourney/journeytimes/data_bin/2020/01/\"+i+\"/\"\n",
    "    files=sorted(os.listdir(file_dir))\n",
    "    ts=json.loads(read_file(file_dir+files[0]))[0][\"time\"]\n",
    "    print(len(files),ts)#, ts_to_day(get_unix_ts(ts))\n",
    "    #print(files[0][0])\n",
    "    print(\"Avg time: {}\\n\".format(global_travel_time(files, ts,9999999)))"
   ]
  },
  {
   "cell_type": "code",
   "execution_count": 44,
   "metadata": {},
   "outputs": [
    {
     "data": {
      "text/plain": [
       "['27', '28', '29', '30', '31']"
      ]
     },
     "execution_count": 44,
     "metadata": {},
     "output_type": "execute_result"
    }
   ],
   "source": [
    "Jan"
   ]
  },
  {
   "cell_type": "code",
   "execution_count": 45,
   "metadata": {},
   "outputs": [
    {
     "data": {
      "text/plain": [
       "['10', '11', '12', '13', '14']"
      ]
     },
     "execution_count": 45,
     "metadata": {},
     "output_type": "execute_result"
    }
   ],
   "source": [
    "week"
   ]
  },
  {
   "cell_type": "code",
   "execution_count": 47,
   "metadata": {},
   "outputs": [
    {
     "name": "stdout",
     "output_type": "stream",
     "text": [
      "1581675189.811_2020-02-14-10-13-09.json\n"
     ]
    },
    {
     "data": {
      "text/plain": [
       "{'id': 'CAMBRIDGE_JTMS|9800WBETRSU3',\n",
       " 'time': '2020-02-14 10:09:59',\n",
       " 'period': 300,\n",
       " 'travelTime': 118,\n",
       " 'normalTravelTime': 136.562}"
      ]
     },
     "execution_count": 47,
     "metadata": {},
     "output_type": "execute_result"
    }
   ],
   "source": [
    "file_dir=\"/media/tfc/btjourney/journeytimes/data_bin/2020/02/14/\"\n",
    "files=sorted(os.listdir(file_dir))\n",
    "print(files[0])\n",
    "json.loads(read_file(file_dir+files[0]))[0]#[0][\"time\"]"
   ]
  },
  {
   "cell_type": "code",
   "execution_count": 48,
   "metadata": {},
   "outputs": [
    {
     "data": {
      "text/plain": [
       "1581674999"
      ]
     },
     "execution_count": 48,
     "metadata": {},
     "output_type": "execute_result"
    }
   ],
   "source": [
    "get_unix_ts(\"2020-02-14 10:09:59\")"
   ]
  },
  {
   "cell_type": "code",
   "execution_count": 168,
   "metadata": {},
   "outputs": [
    {
     "name": "stdout",
     "output_type": "stream",
     "text": [
      "63 2020-02-10 13:15:28\n",
      "1581340818.035_2020-02-10-13-20-18.json 1581359418.021_2020-02-10-18-30-18.json\n",
      "Monday  Avg time: 251.89055930691808\n",
      "\n",
      "99 2020-02-11 10:04:09\n",
      "1581415624.984_2020-02-11-10-07-04.json 1581445025.055_2020-02-11-18-17-05.json\n",
      "Tuesday  Avg time: 258.8503764877338\n",
      "\n",
      "92 2020-02-12 10:34:07\n",
      "1581503849.441_2020-02-12-10-37-29.json 1581531149.585_2020-02-12-18-12-29.json\n",
      "Wednesday  Avg time: 259.08883943854846\n",
      "\n",
      "61 2020-02-13 13:08:38\n",
      "1581599672.693_2020-02-13-13-14-32.json 1581617829.275_2020-02-13-18-17-09.json\n",
      "Thursday  Avg time: 289.91396589873744\n",
      "\n",
      "139 2020-02-14 10:09:59\n",
      "1581675189.811_2020-02-14-10-13-09.json 1581716589.809_2020-02-14-21-43-09.json\n",
      "Friday  Avg time: 249.72636990302607\n",
      "\n"
     ]
    }
   ],
   "source": [
    "for i in week:\n",
    "    file_dir=\"/media/tfc/btjourney/journeytimes/data_bin/2020/02/\"+i+\"/\"\n",
    "    files=sorted(os.listdir(file_dir))\n",
    "    ts=json.loads(read_file(file_dir+files[0]))[0][\"time\"]\n",
    "    \n",
    "    print(len(files),ts)\n",
    "    \n",
    "    print(str(ts_to_weekday(get_unix_ts(ts))),\" Avg time: {}\\n\".format(global_travel_time(files, ts,9999999)))\n",
    "    "
   ]
  },
  {
   "cell_type": "code",
   "execution_count": null,
   "metadata": {},
   "outputs": [],
   "source": [
    "def to_MPH(time):\n",
    "    TO_MPH=2.23694\n",
    "    dist=\n",
    "    return (dist/time)*TO_MPH\n"
   ]
  },
  {
   "cell_type": "code",
   "execution_count": null,
   "metadata": {},
   "outputs": [],
   "source": [
    "files=sorted(os.listdir(file_dir))\n",
    "files"
   ]
  },
  {
   "cell_type": "code",
   "execution_count": null,
   "metadata": {},
   "outputs": [],
   "source": []
  },
  {
   "cell_type": "code",
   "execution_count": null,
   "metadata": {},
   "outputs": [],
   "source": []
  },
  {
   "cell_type": "code",
   "execution_count": null,
   "metadata": {},
   "outputs": [],
   "source": []
  },
  {
   "cell_type": "code",
   "execution_count": null,
   "metadata": {},
   "outputs": [],
   "source": []
  }
 ],
 "metadata": {
  "kernelspec": {
   "display_name": "Python 3",
   "language": "python",
   "name": "python3"
  },
  "language_info": {
   "codemirror_mode": {
    "name": "ipython",
    "version": 3
   },
   "file_extension": ".py",
   "mimetype": "text/x-python",
   "name": "python",
   "nbconvert_exporter": "python",
   "pygments_lexer": "ipython3",
   "version": "3.7.3"
  }
 },
 "nbformat": 4,
 "nbformat_minor": 2
}
