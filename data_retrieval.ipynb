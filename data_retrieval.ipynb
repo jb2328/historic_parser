{
 "cells": [
  {
   "cell_type": "code",
   "execution_count": 37,
   "metadata": {},
   "outputs": [
    {
     "name": "stdout",
     "output_type": "stream",
     "text": [
      "Collecting simplejson\n",
      "  Using cached https://files.pythonhosted.org/packages/98/87/a7b98aa9256c8843f92878966dc3d8d914c14aad97e2c5ce4798d5743e07/simplejson-3.17.0.tar.gz\n",
      "Building wheels for collected packages: simplejson\n",
      "  Building wheel for simplejson (setup.py) ... \u001b[?25ldone\n",
      "\u001b[?25h  Stored in directory: /home/jb2328/.cache/pip/wheels/86/c0/83/dcd0339abb2640544bb8e0938aab2d069cef55e5647ce6e097\n",
      "Successfully built simplejson\n",
      "Installing collected packages: simplejson\n",
      "Successfully installed simplejson-3.17.0\n"
     ]
    }
   ],
   "source": [
    "!pip install simplejson"
   ]
  },
  {
   "cell_type": "code",
   "execution_count": 224,
   "metadata": {},
   "outputs": [],
   "source": [
    "import os\n",
    "import glob\n",
    "import simplejson as json\n",
    "\n",
    "import time\n",
    "import datetime\n",
    "\n",
    "import pandas"
   ]
  },
  {
   "cell_type": "code",
   "execution_count": 236,
   "metadata": {},
   "outputs": [
    {
     "data": {
      "text/plain": [
       "['27', '28', '29', '30', '31']"
      ]
     },
     "execution_count": 236,
     "metadata": {},
     "output_type": "execute_result"
    }
   ],
   "source": [
    "Jan=sorted(os.listdir(\"/media/tfc/btjourney/journeytimes/data_bin/2020/01\"))\n",
    "Jan"
   ]
  },
  {
   "cell_type": "code",
   "execution_count": 233,
   "metadata": {},
   "outputs": [
    {
     "data": {
      "text/plain": [
       "['03', '04', '05', '06', '10', '11', '12', '13', '14', '17', '18']"
      ]
     },
     "execution_count": 233,
     "metadata": {},
     "output_type": "execute_result"
    }
   ],
   "source": [
    "Feb=sorted(os.listdir(\"/media/tfc/btjourney/journeytimes/data_bin/2020/02\"))\n",
    "Feb"
   ]
  },
  {
   "cell_type": "code",
   "execution_count": 143,
   "metadata": {},
   "outputs": [
    {
     "data": {
      "text/plain": [
       "['10', '11', '12', '13', '14']"
      ]
     },
     "execution_count": 143,
     "metadata": {},
     "output_type": "execute_result"
    }
   ],
   "source": [
    "week=Feb[4:9]\n",
    "week"
   ]
  },
  {
   "cell_type": "code",
   "execution_count": 22,
   "metadata": {},
   "outputs": [
    {
     "name": "stdout",
     "output_type": "stream",
     "text": [
      "03\n",
      "04\n",
      "05\n",
      "06\n",
      "10\n",
      "11\n",
      "12\n",
      "13\n",
      "14\n",
      "17\n",
      "18\n"
     ]
    }
   ],
   "source": [
    "for i in Feb:\n",
    "    print(i)"
   ]
  },
  {
   "cell_type": "code",
   "execution_count": 32,
   "metadata": {},
   "outputs": [],
   "source": [
    "file_dir=\"/media/tfc/btjourney/journeytimes/data_bin/2020/02/\"+Feb[2]+\"/\""
   ]
  },
  {
   "cell_type": "code",
   "execution_count": 51,
   "metadata": {},
   "outputs": [],
   "source": [
    "files=sorted(os.listdir(file_dir))"
   ]
  },
  {
   "cell_type": "code",
   "execution_count": 52,
   "metadata": {},
   "outputs": [
    {
     "data": {
      "text/plain": [
       "['1580914134.301_2020-02-05-14-48-54.json',\n",
       " '1580914433.823_2020-02-05-14-53-53.json',\n",
       " '1580914733.837_2020-02-05-14-58-53.json',\n",
       " '1580915034.012_2020-02-05-15-03-54.json',\n",
       " '1580915334.011_2020-02-05-15-08-54.json',\n",
       " '1580915633.863_2020-02-05-15-13-53.json',\n",
       " '1580915933.843_2020-02-05-15-18-53.json',\n",
       " '1580916233.842_2020-02-05-15-23-53.json',\n",
       " '1580916533.911_2020-02-05-15-28-53.json',\n",
       " '1580916833.855_2020-02-05-15-33-53.json',\n",
       " '1580917133.924_2020-02-05-15-38-53.json',\n",
       " '1580917433.941_2020-02-05-15-43-53.json',\n",
       " '1580917734.025_2020-02-05-15-48-54.json',\n",
       " '1580918033.984_2020-02-05-15-53-53.json',\n",
       " '1580918333.946_2020-02-05-15-58-53.json',\n",
       " '1580918633.928_2020-02-05-16-03-53.json',\n",
       " '1580918933.940_2020-02-05-16-08-53.json',\n",
       " '1580919233.902_2020-02-05-16-13-53.json',\n",
       " '1580919533.915_2020-02-05-16-18-53.json',\n",
       " '1580919833.886_2020-02-05-16-23-53.json',\n",
       " '1580920133.856_2020-02-05-16-28-53.json',\n",
       " '1580920433.820_2020-02-05-16-33-53.json',\n",
       " '1580920733.883_2020-02-05-16-38-53.json',\n",
       " '1580921033.829_2020-02-05-16-43-53.json',\n",
       " '1580921333.909_2020-02-05-16-48-53.json',\n",
       " '1580921633.872_2020-02-05-16-53-53.json',\n",
       " '1580921933.993_2020-02-05-16-58-53.json',\n",
       " '1580922233.819_2020-02-05-17-03-53.json',\n",
       " '1580922533.872_2020-02-05-17-08-53.json',\n",
       " '1580922833.888_2020-02-05-17-13-53.json',\n",
       " '1580923133.898_2020-02-05-17-18-53.json',\n",
       " '1580923433.845_2020-02-05-17-23-53.json',\n",
       " '1580923733.862_2020-02-05-17-28-53.json',\n",
       " '1580924033.819_2020-02-05-17-33-53.json',\n",
       " '1580924333.865_2020-02-05-17-38-53.json',\n",
       " '1580924633.889_2020-02-05-17-43-53.json',\n",
       " '1580924933.983_2020-02-05-17-48-53.json',\n",
       " '1580925233.811_2020-02-05-17-53-53.json',\n",
       " '1580925533.898_2020-02-05-17-58-53.json',\n",
       " '1580925833.838_2020-02-05-18-03-53.json']"
      ]
     },
     "execution_count": 52,
     "metadata": {},
     "output_type": "execute_result"
    }
   ],
   "source": [
    "files"
   ]
  },
  {
   "cell_type": "code",
   "execution_count": 53,
   "metadata": {
    "scrolled": false
   },
   "outputs": [],
   "source": [
    "msg=read_file(file_dir+files[0])"
   ]
  },
  {
   "cell_type": "code",
   "execution_count": 61,
   "metadata": {},
   "outputs": [
    {
     "data": {
      "text/plain": [
       "'1580914134.301_2020-02-05-14-48-54.json'"
      ]
     },
     "execution_count": 61,
     "metadata": {},
     "output_type": "execute_result"
    }
   ],
   "source": [
    "files[0]"
   ]
  },
  {
   "cell_type": "code",
   "execution_count": 54,
   "metadata": {},
   "outputs": [],
   "source": [
    " msg_json=json.loads(msg)"
   ]
  },
  {
   "cell_type": "code",
   "execution_count": 55,
   "metadata": {},
   "outputs": [
    {
     "data": {
      "text/plain": [
       "144"
      ]
     },
     "execution_count": 55,
     "metadata": {},
     "output_type": "execute_result"
    }
   ],
   "source": [
    "len(msg_json)"
   ]
  },
  {
   "cell_type": "code",
   "execution_count": 56,
   "metadata": {},
   "outputs": [
    {
     "data": {
      "text/plain": [
       "{'id': 'CAMBRIDGE_JTMS|9800WBETRSU3',\n",
       " 'time': '2020-02-05 14:45:00',\n",
       " 'period': 300,\n",
       " 'travelTime': 126,\n",
       " 'normalTravelTime': 129.445}"
      ]
     },
     "execution_count": 56,
     "metadata": {},
     "output_type": "execute_result"
    }
   ],
   "source": [
    "msg_json[0]"
   ]
  },
  {
   "cell_type": "code",
   "execution_count": 57,
   "metadata": {},
   "outputs": [
    {
     "data": {
      "text/plain": [
       "'CAMBRIDGE_JTMS|9800WBETRSU3'"
      ]
     },
     "execution_count": 57,
     "metadata": {},
     "output_type": "execute_result"
    }
   ],
   "source": [
    "msg_json[0][\"id\"]"
   ]
  },
  {
   "cell_type": "code",
   "execution_count": 60,
   "metadata": {},
   "outputs": [
    {
     "ename": "AttributeError",
     "evalue": "'list' object has no attribute 'id'",
     "output_type": "error",
     "traceback": [
      "\u001b[0;31m---------------------------------------------------------------------------\u001b[0m",
      "\u001b[0;31mAttributeError\u001b[0m                            Traceback (most recent call last)",
      "\u001b[0;32m<ipython-input-60-7fa24eb45b16>\u001b[0m in \u001b[0;36m<module>\u001b[0;34m\u001b[0m\n\u001b[0;32m----> 1\u001b[0;31m \u001b[0mmsg_json\u001b[0m\u001b[0;34m.\u001b[0m\u001b[0mid\u001b[0m\u001b[0;34m\u001b[0m\u001b[0;34m\u001b[0m\u001b[0m\n\u001b[0m",
      "\u001b[0;31mAttributeError\u001b[0m: 'list' object has no attribute 'id'"
     ]
    }
   ],
   "source": [
    "msg_json.id"
   ]
  },
  {
   "cell_type": "code",
   "execution_count": 84,
   "metadata": {},
   "outputs": [
    {
     "data": {
      "text/plain": [
       "'2020-02-05 17:58:21'"
      ]
     },
     "execution_count": 84,
     "metadata": {},
     "output_type": "execute_result"
    }
   ],
   "source": [
    "t1=msg_json[0][\"time\"]\n",
    "t1"
   ]
  },
  {
   "cell_type": "code",
   "execution_count": 86,
   "metadata": {},
   "outputs": [
    {
     "data": {
      "text/plain": [
       "'2020-02-05 17:59:58'"
      ]
     },
     "execution_count": 86,
     "metadata": {},
     "output_type": "execute_result"
    }
   ],
   "source": [
    "t5=msg_json[10][\"time\"]\n",
    "t5"
   ]
  },
  {
   "cell_type": "code",
   "execution_count": 83,
   "metadata": {},
   "outputs": [
    {
     "data": {
      "text/plain": [
       "1580925501.0"
      ]
     },
     "execution_count": 83,
     "metadata": {},
     "output_type": "execute_result"
    }
   ],
   "source": [
    "get_unix_ts(t)"
   ]
  },
  {
   "cell_type": "code",
   "execution_count": 270,
   "metadata": {},
   "outputs": [],
   "source": [
    "def get_unix_ts(ts):\n",
    "    if(ts!=None):\n",
    "        return int(time.mktime(datetime.datetime.strptime(ts, \"%Y-%m-%d %H:%M:%S\").timetuple()))"
   ]
  },
  {
   "cell_type": "code",
   "execution_count": 208,
   "metadata": {},
   "outputs": [
    {
     "data": {
      "text/plain": [
       "'CAMBRIDGE_JTMS|9800WBETRSU3'"
      ]
     },
     "execution_count": 208,
     "metadata": {},
     "output_type": "execute_result"
    }
   ],
   "source": [
    "link=msg_json[0][\"id\"]\n",
    "link"
   ]
  },
  {
   "cell_type": "code",
   "execution_count": 209,
   "metadata": {},
   "outputs": [
    {
     "name": "stdout",
     "output_type": "stream",
     "text": [
      "Travel Time 118 Time 2020-02-14 10:09:59 Unix 1581674999.0\n",
      "Travel Time 125 Time 2020-02-14 10:15:06 Unix 1581675306.0\n",
      "Travel Time 126 Time 2020-02-14 10:16:40 Unix 1581675400.0\n",
      "Travel Time 117 Time 2020-02-14 10:25:15 Unix 1581675915.0\n",
      "Travel Time 121 Time 2020-02-14 10:30:05 Unix 1581676205.0\n",
      "Travel Time 121 Time 2020-02-14 10:32:49 Unix 1581676369.0\n",
      "Travel Time 116 Time 2020-02-14 10:37:02 Unix 1581676622.0\n",
      "Travel Time 124 Time 2020-02-14 10:42:30 Unix 1581676950.0\n",
      "Travel Time 124 Time 2020-02-14 10:47:15 Unix 1581677235.0\n",
      "Travel Time 114 Time 2020-02-14 10:51:40 Unix 1581677500.0\n",
      "Travel Time 120 Time 2020-02-14 10:59:39 Unix 1581677979.0\n",
      "Travel Time 151 Time 2020-02-14 11:04:46 Unix 1581678286.0\n",
      "Travel Time 155 Time 2020-02-14 11:08:40 Unix 1581678520.0\n",
      "Travel Time 162 Time 2020-02-14 11:14:35 Unix 1581678875.0\n",
      "Travel Time 164 Time 2020-02-14 11:19:23 Unix 1581679163.0\n",
      "Travel Time 217 Time 2020-02-14 11:21:40 Unix 1581679300.0\n",
      "Travel Time 155 Time 2020-02-14 11:29:47 Unix 1581679787.0\n",
      "Travel Time 132 Time 2020-02-14 11:31:40 Unix 1581679900.0\n",
      "Travel Time 152 Time 2020-02-14 11:37:00 Unix 1581680220.0\n",
      "Travel Time 126 Time 2020-02-14 11:43:15 Unix 1581680595.0\n",
      "Travel Time 134 Time 2020-02-14 11:50:15 Unix 1581681015.0\n",
      "Travel Time 135 Time 2020-02-14 11:54:22 Unix 1581681262.0\n",
      "Travel Time 130 Time 2020-02-14 11:57:20 Unix 1581681440.0\n",
      "Travel Time 140 Time 2020-02-14 12:02:22 Unix 1581681742.0\n",
      "Travel Time 127 Time 2020-02-14 12:10:12 Unix 1581682212.0\n",
      "Travel Time 122 Time 2020-02-14 12:12:43 Unix 1581682363.0\n",
      "Travel Time 120 Time 2020-02-14 12:19:12 Unix 1581682752.0\n",
      "Travel Time 112 Time 2020-02-14 12:24:14 Unix 1581683054.0\n",
      "Travel Time 123 Time 2020-02-14 12:30:02 Unix 1581683402.0\n",
      "Travel Time 126 Time 2020-02-14 12:34:44 Unix 1581683684.0\n",
      "Travel Time 131 Time 2020-02-14 12:39:27 Unix 1581683967.0\n",
      "Travel Time 130 Time 2020-02-14 12:43:09 Unix 1581684189.0\n",
      "Travel Time 120 Time 2020-02-14 12:48:29 Unix 1581684509.0\n",
      "Travel Time 129 Time 2020-02-14 12:51:40 Unix 1581684700.0\n",
      "Travel Time 131 Time 2020-02-14 12:59:47 Unix 1581685187.0\n",
      "Travel Time 131 Time 2020-02-14 13:01:40 Unix 1581685300.0\n",
      "Travel Time 132 Time 2020-02-14 13:09:52 Unix 1581685792.0\n",
      "Travel Time 133 Time 2020-02-14 13:13:45 Unix 1581686025.0\n",
      "Travel Time 130 Time 2020-02-14 13:19:14 Unix 1581686354.0\n",
      "Travel Time 129 Time 2020-02-14 13:24:49 Unix 1581686689.0\n",
      "Travel Time 130 Time 2020-02-14 13:29:11 Unix 1581686951.0\n",
      "Travel Time 114 Time 2020-02-14 13:34:49 Unix 1581687289.0\n",
      "Travel Time 113 Time 2020-02-14 13:39:02 Unix 1581687542.0\n",
      "Travel Time 115 Time 2020-02-14 13:43:28 Unix 1581687808.0\n",
      "Travel Time 125 Time 2020-02-14 13:49:32 Unix 1581688172.0\n",
      "Travel Time 128 Time 2020-02-14 13:51:40 Unix 1581688300.0\n",
      "Travel Time 122 Time 2020-02-14 13:59:25 Unix 1581688765.0\n",
      "Travel Time 134 Time 2020-02-14 14:04:57 Unix 1581689097.0\n",
      "Travel Time 110 Time 2020-02-14 14:09:52 Unix 1581689392.0\n",
      "Travel Time 122 Time 2020-02-14 14:14:55 Unix 1581689695.0\n",
      "Travel Time 130 Time 2020-02-14 14:19:49 Unix 1581689989.0\n",
      "Travel Time 127 Time 2020-02-14 14:21:40 Unix 1581690100.0\n",
      "Travel Time 137 Time 2020-02-14 14:29:21 Unix 1581690561.0\n",
      "Travel Time 121 Time 2020-02-14 14:34:22 Unix 1581690862.0\n",
      "Travel Time 127 Time 2020-02-14 14:39:31 Unix 1581691171.0\n",
      "Travel Time 136 Time 2020-02-14 14:42:38 Unix 1581691358.0\n",
      "Travel Time 128 Time 2020-02-14 14:48:37 Unix 1581691717.0\n",
      "Travel Time 122 Time 2020-02-14 14:54:36 Unix 1581692076.0\n",
      "Travel Time 122 Time 2020-02-14 14:59:05 Unix 1581692345.0\n",
      "Travel Time 123 Time 2020-02-14 15:03:29 Unix 1581692609.0\n",
      "Travel Time 122 Time 2020-02-14 15:09:15 Unix 1581692955.0\n",
      "Travel Time 123 Time 2020-02-14 15:15:00 Unix 1581693300.0\n",
      "Travel Time 123 Time 2020-02-14 15:19:56 Unix 1581693596.0\n",
      "Travel Time 122 Time 2020-02-14 15:25:11 Unix 1581693911.0\n",
      "Travel Time 128 Time 2020-02-14 15:30:00 Unix 1581694200.0\n",
      "Travel Time 128 Time 2020-02-14 15:34:45 Unix 1581694485.0\n",
      "Travel Time 129 Time 2020-02-14 15:38:56 Unix 1581694736.0\n",
      "Travel Time 133 Time 2020-02-14 15:45:03 Unix 1581695103.0\n",
      "Travel Time 135 Time 2020-02-14 15:48:44 Unix 1581695324.0\n",
      "Travel Time 130 Time 2020-02-14 15:54:01 Unix 1581695641.0\n",
      "Travel Time 130 Time 2020-02-14 15:58:18 Unix 1581695898.0\n",
      "Travel Time 130 Time 2020-02-14 16:04:33 Unix 1581696273.0\n",
      "Travel Time 127 Time 2020-02-14 16:07:32 Unix 1581696452.0\n",
      "Travel Time 125 Time 2020-02-14 16:15:11 Unix 1581696911.0\n",
      "Travel Time 126 Time 2020-02-14 16:18:10 Unix 1581697090.0\n",
      "Travel Time 137 Time 2020-02-14 16:25:17 Unix 1581697517.0\n",
      "Travel Time 137 Time 2020-02-14 16:29:26 Unix 1581697766.0\n",
      "Travel Time 132 Time 2020-02-14 16:35:14 Unix 1581698114.0\n",
      "Travel Time 134 Time 2020-02-14 16:40:07 Unix 1581698407.0\n",
      "Travel Time 138 Time 2020-02-14 16:44:33 Unix 1581698673.0\n",
      "Travel Time 140 Time 2020-02-14 16:47:23 Unix 1581698843.0\n",
      "Travel Time 139 Time 2020-02-14 16:54:58 Unix 1581699298.0\n",
      "Travel Time 143 Time 2020-02-14 17:00:03 Unix 1581699603.0\n",
      "Travel Time 129 Time 2020-02-14 17:05:07 Unix 1581699907.0\n",
      "Travel Time 139 Time 2020-02-14 17:09:32 Unix 1581700172.0\n",
      "Travel Time 134 Time 2020-02-14 17:14:28 Unix 1581700468.0\n",
      "Travel Time 167 Time 2020-02-14 17:19:33 Unix 1581700773.0\n",
      "Travel Time 149 Time 2020-02-14 17:24:38 Unix 1581701078.0\n",
      "Travel Time 151 Time 2020-02-14 17:30:12 Unix 1581701412.0\n",
      "Travel Time 136 Time 2020-02-14 17:32:54 Unix 1581701574.0\n",
      "Travel Time 137 Time 2020-02-14 17:39:44 Unix 1581701984.0\n",
      "Travel Time 128 Time 2020-02-14 17:44:42 Unix 1581702282.0\n",
      "Travel Time 133 Time 2020-02-14 17:50:09 Unix 1581702609.0\n",
      "Travel Time 136 Time 2020-02-14 17:54:22 Unix 1581702862.0\n",
      "Travel Time 129 Time 2020-02-14 17:59:54 Unix 1581703194.0\n",
      "Travel Time 125 Time 2020-02-14 18:04:45 Unix 1581703485.0\n",
      "Travel Time 137 Time 2020-02-14 18:08:48 Unix 1581703728.0\n",
      "Travel Time 130 Time 2020-02-14 18:11:41 Unix 1581703901.0\n",
      "Travel Time 127 Time 2020-02-14 18:19:26 Unix 1581704366.0\n",
      "Travel Time 130 Time 2020-02-14 18:23:51 Unix 1581704631.0\n",
      "Travel Time 126 Time 2020-02-14 18:28:53 Unix 1581704933.0\n",
      "Travel Time 139 Time 2020-02-14 18:34:59 Unix 1581705299.0\n",
      "Travel Time 132 Time 2020-02-14 18:40:02 Unix 1581705602.0\n",
      "Travel Time 132 Time 2020-02-14 18:44:52 Unix 1581705892.0\n",
      "Travel Time 125 Time 2020-02-14 18:47:31 Unix 1581706051.0\n",
      "Travel Time 123 Time 2020-02-14 18:51:40 Unix 1581706300.0\n",
      "Travel Time 133 Time 2020-02-14 18:59:46 Unix 1581706786.0\n",
      "Travel Time 127 Time 2020-02-14 19:05:06 Unix 1581707106.0\n",
      "Travel Time 125 Time 2020-02-14 19:06:40 Unix 1581707200.0\n",
      "Travel Time 138 Time 2020-02-14 19:11:40 Unix 1581707500.0\n",
      "Travel Time 140 Time 2020-02-14 19:18:58 Unix 1581707938.0\n",
      "Travel Time 141 Time 2020-02-14 19:21:40 Unix 1581708100.0\n",
      "Travel Time 129 Time 2020-02-14 19:29:14 Unix 1581708554.0\n",
      "Travel Time 126 Time 2020-02-14 19:31:40 Unix 1581708700.0\n",
      "Travel Time 115 Time 2020-02-14 19:36:40 Unix 1581709000.0\n",
      "Travel Time 140 Time 2020-02-14 19:43:39 Unix 1581709419.0\n",
      "Travel Time 140 Time 2020-02-14 19:46:40 Unix 1581709600.0\n",
      "Travel Time 133 Time 2020-02-14 19:54:44 Unix 1581710084.0\n",
      "Travel Time 125 Time 2020-02-14 20:00:04 Unix 1581710404.0\n",
      "Travel Time 114 Time 2020-02-14 20:04:30 Unix 1581710670.0\n",
      "Travel Time 118 Time 2020-02-14 20:07:45 Unix 1581710865.0\n",
      "Travel Time 118 Time 2020-02-14 20:11:40 Unix 1581711100.0\n",
      "Travel Time 120 Time 2020-02-14 20:19:20 Unix 1581711560.0\n",
      "Travel Time 137 Time 2020-02-14 20:21:40 Unix 1581711700.0\n",
      "Travel Time 132 Time 2020-02-14 20:28:50 Unix 1581712130.0\n",
      "Travel Time 132 Time 2020-02-14 20:31:41 Unix 1581712301.0\n",
      "Travel Time 126 Time 2020-02-14 20:39:44 Unix 1581712784.0\n",
      "Travel Time 127 Time 2020-02-14 20:41:40 Unix 1581712900.0\n",
      "Travel Time 127 Time 2020-02-14 20:48:49 Unix 1581713329.0\n",
      "Travel Time 127 Time 2020-02-14 20:51:40 Unix 1581713500.0\n",
      "Travel Time 127 Time 2020-02-14 20:56:38 Unix 1581713798.0\n",
      "Travel Time 125 Time 2020-02-14 21:01:38 Unix 1581714098.0\n",
      "Travel Time None Time 2020-02-14 21:11:38 Unix 1581714698.0\n",
      "Travel Time None Time 2020-02-14 21:16:38 Unix 1581714998.0\n",
      "Travel Time 126 Time 2020-02-14 21:18:45 Unix 1581715125.0\n",
      "Travel Time 126 Time 2020-02-14 21:21:38 Unix 1581715298.0\n",
      "Travel Time 126 Time 2020-02-14 21:26:40 Unix 1581715600.0\n",
      "Travel Time 110 Time 2020-02-14 21:31:40 Unix 1581715900.0\n",
      "Travel Time 99 Time 2020-02-14 21:36:40 Unix 1581716200.0\n"
     ]
    }
   ],
   "source": [
    "\n",
    "for i in range(0, len(files)):\n",
    "    msg_json=json.loads(read_file(file_dir+files[i]))\n",
    "    for i in range(0, len(msg_json)):\n",
    "        if(msg_json[i][\"id\"]==link):\n",
    "            print(\"Travel Time {}\".format(msg_json[i][\"travelTime\"]), \"Time {}\".format(msg_json[i][\"time\"]), \"Unix {}\".format(get_unix_ts(msg_json[i][\"time\"])))"
   ]
  },
  {
   "cell_type": "code",
   "execution_count": 210,
   "metadata": {},
   "outputs": [],
   "source": [
    "def ts_to_day(ts):\n",
    "    return time.strftime(\"%A\", time.gmtime(ts/1000))"
   ]
  },
  {
   "cell_type": "code",
   "execution_count": 211,
   "metadata": {},
   "outputs": [],
   "source": [
    "# Python program to get average of a list \n",
    "def get_avg(lst): \n",
    "    return sum(lst) / len(lst) "
   ]
  },
  {
   "cell_type": "code",
   "execution_count": 212,
   "metadata": {},
   "outputs": [],
   "source": [
    "def read_file(file):\n",
    "    \"\"\"Gets the first line from a file.\n",
    "\n",
    "    Returns\n",
    "    -------\n",
    "    str\n",
    "        the first line text of the input file\n",
    "    \"\"\"\n",
    "    with open(file, 'rt') as fd:\n",
    "        first_line = fd.readline()\n",
    "    return first_line"
   ]
  },
  {
   "cell_type": "code",
   "execution_count": 213,
   "metadata": {},
   "outputs": [],
   "source": [
    "file_dir=\"/media/tfc/btjourney/journeytimes/data_bin/2020/02/\"+Feb[2]+\"/\"\n",
    "files=sorted(os.listdir(file_dir))\n"
   ]
  },
  {
   "cell_type": "code",
   "execution_count": 246,
   "metadata": {},
   "outputs": [],
   "source": [
    "def global_travel_time(files,ts,duration):\n",
    "    avg_tt=[]\n",
    "    print(files[0], files[len(files)-1])\n",
    "    for i in range(0, len(files)):\n",
    "        msg_json=json.loads(read_file(file_dir+files[i]))\n",
    "        for i in range(0, len(msg_json)):\n",
    "            if((get_unix_ts(msg_json[i][\"time\"])-get_unix_ts(ts)<duration)and(get_unix_ts(msg_json[i][\"time\"])-get_unix_ts(ts)>=0) ):\n",
    "                if(msg_json[i][\"travelTime\"]!=None):\n",
    "                    avg_tt.append(msg_json[i][\"travelTime\"])\n",
    "                #print(\"Travel Time {}\".format(msg_json[i][\"travelTime\"]), \"Time {}\".format(msg_json[i][\"time\"]), \"Unix {}\".format(get_unix_ts(msg_json[i][\"time\"])))\n",
    "    #print(\"\\n\",get_avg(avg_tt))\n",
    "    return get_avg(avg_tt)"
   ]
  },
  {
   "cell_type": "code",
   "execution_count": 215,
   "metadata": {},
   "outputs": [],
   "source": [
    "def get_link_travel_time(files,link,ts,duration):\n",
    "    avg_tt=[]\n",
    "    for i in range(0, len(files)):\n",
    "        msg_json=json.loads(read_file(file_dir+files[i]))\n",
    "        for i in range(0, len(msg_json)):\n",
    "            if((msg_json[i][\"id\"]==link) and (get_unix_ts(msg_json[i][\"time\"])-get_unix_ts(ts)<duration)and(get_unix_ts(msg_json[i][\"time\"])-get_unix_ts(ts)>=0) ):\n",
    "                avg_tt.append(msg_json[i][\"travelTime\"])\n",
    "                print(\"Travel Time {}\".format(msg_json[i][\"travelTime\"]), \"Time {}\".format(msg_json[i][\"time\"]), \"Unix {}\".format(get_unix_ts(msg_json[i][\"time\"])))\n",
    "    print(\"\\n\",get_avg(avg_tt))"
   ]
  },
  {
   "cell_type": "code",
   "execution_count": 216,
   "metadata": {},
   "outputs": [
    {
     "name": "stdout",
     "output_type": "stream",
     "text": [
      "1580914134.301_2020-02-05-14-48-54.json 1580925833.838_2020-02-05-18-03-53.json\n"
     ]
    },
    {
     "data": {
      "text/plain": [
       "288.7339081612192"
      ]
     },
     "execution_count": 216,
     "metadata": {},
     "output_type": "execute_result"
    }
   ],
   "source": [
    "global_travel_time(files, '2020-02-05 00:00:01',99999)"
   ]
  },
  {
   "cell_type": "code",
   "execution_count": 217,
   "metadata": {
    "scrolled": true
   },
   "outputs": [
    {
     "name": "stdout",
     "output_type": "stream",
     "text": [
      "Travel Time 140 Time 2020-02-05 16:25:02 Unix 1580919902.0\n",
      "Travel Time 137 Time 2020-02-05 16:29:27 Unix 1580920167.0\n",
      "Travel Time 139 Time 2020-02-05 16:34:19 Unix 1580920459.0\n",
      "Travel Time 133 Time 2020-02-05 16:39:26 Unix 1580920766.0\n",
      "Travel Time 139 Time 2020-02-05 16:45:03 Unix 1580921103.0\n",
      "Travel Time 134 Time 2020-02-05 16:49:33 Unix 1580921373.0\n",
      "Travel Time 129 Time 2020-02-05 16:53:41 Unix 1580921621.0\n",
      "Travel Time 138 Time 2020-02-05 16:59:36 Unix 1580921976.0\n",
      "Travel Time 128 Time 2020-02-05 17:04:33 Unix 1580922273.0\n",
      "Travel Time 133 Time 2020-02-05 17:08:42 Unix 1580922522.0\n",
      "Travel Time 127 Time 2020-02-05 17:13:52 Unix 1580922832.0\n",
      "Travel Time 136 Time 2020-02-05 17:19:28 Unix 1580923168.0\n",
      "Travel Time 148 Time 2020-02-05 17:24:53 Unix 1580923493.0\n",
      "Travel Time 148 Time 2020-02-05 17:27:59 Unix 1580923679.0\n",
      "Travel Time 150 Time 2020-02-05 17:34:16 Unix 1580924056.0\n",
      "Travel Time 148 Time 2020-02-05 17:40:21 Unix 1580924421.0\n",
      "Travel Time 152 Time 2020-02-05 17:44:37 Unix 1580924677.0\n",
      "Travel Time 151 Time 2020-02-05 17:49:15 Unix 1580924955.0\n",
      "Travel Time 136 Time 2020-02-05 17:54:08 Unix 1580925248.0\n",
      "Travel Time 139 Time 2020-02-05 17:58:21 Unix 1580925501.0\n",
      "\n",
      " 139.25\n"
     ]
    }
   ],
   "source": [
    "get_travel_time('CAMBRIDGE_JTMS|9800WBETRSU3','2020-02-05 16:25:02',999999)"
   ]
  },
  {
   "cell_type": "markdown",
   "metadata": {},
   "source": [
    "Checking if the day is not a weekend:"
   ]
  },
  {
   "cell_type": "code",
   "execution_count": 223,
   "metadata": {},
   "outputs": [
    {
     "data": {
      "text/plain": [
       "'Monday'"
      ]
     },
     "execution_count": 223,
     "metadata": {},
     "output_type": "execute_result"
    }
   ],
   "source": [
    "time.strftime(\"%A\", time.gmtime(1581762847./1000))"
   ]
  },
  {
   "cell_type": "code",
   "execution_count": 232,
   "metadata": {},
   "outputs": [
    {
     "data": {
      "text/plain": [
       "1582022047.0"
      ]
     },
     "execution_count": 232,
     "metadata": {},
     "output_type": "execute_result"
    }
   ],
   "source": [
    "get_unix_ts('2020-02-18 10:34:07')"
   ]
  },
  {
   "cell_type": "code",
   "execution_count": 231,
   "metadata": {},
   "outputs": [
    {
     "data": {
      "text/plain": [
       "'Monday'"
      ]
     },
     "execution_count": 231,
     "metadata": {},
     "output_type": "execute_result"
    }
   ],
   "source": [
    "ts_to_day(get_unix_ts('2020-02-16 10:34:07'))"
   ]
  },
  {
   "cell_type": "code",
   "execution_count": 229,
   "metadata": {},
   "outputs": [],
   "source": [
    "def ep_to_day(ep):\n",
    "    return datetime.fromtimestamp(ep/1000).strftime(\"%A\")"
   ]
  },
  {
   "cell_type": "code",
   "execution_count": null,
   "metadata": {},
   "outputs": [],
   "source": [
    "ep_to_day()"
   ]
  },
  {
   "cell_type": "code",
   "execution_count": 268,
   "metadata": {},
   "outputs": [
    {
     "name": "stdout",
     "output_type": "stream",
     "text": [
      "82 2020-01-27 17:04:39\n",
      "1580145080.811_2020-01-27-17-11-20.json 1580169380.466_2020-01-27-23-56-20.json\n",
      "Avg time: 216.3695127834057\n",
      "\n",
      "183 2020-01-27 23:56:40\n",
      "1580169680.704_2020-01-28-00-01-20.json 1580234638.748_2020-01-28-18-03-58.json\n",
      "Avg time: 246.8796933870339\n",
      "\n",
      "68 2020-01-29 10:14:08\n",
      "1580293072.924_2020-01-29-10-17-52.json 1580322418.600_2020-01-29-18-26-58.json\n",
      "Avg time: 257.95290315133326\n",
      "\n",
      "51 2020-01-30 13:49:39\n",
      "1580392383.849_2020-01-30-13-53-03.json 1580407383.985_2020-01-30-18-03-03.json\n",
      "Avg time: 283.88400812881036\n",
      "\n",
      "94 2020-01-31 10:11:40\n",
      "1580465989.487_2020-01-31-10-19-49.json 1580493889.008_2020-01-31-18-04-49.json\n",
      "Avg time: 262.62895326637334\n",
      "\n"
     ]
    }
   ],
   "source": [
    "for i in Jan:\n",
    "    file_dir=\"/media/tfc/btjourney/journeytimes/data_bin/2020/01/\"+i+\"/\"\n",
    "    files=sorted(os.listdir(file_dir))\n",
    "    ts=json.loads(read_file(file_dir+files[0]))[0][\"time\"]\n",
    "    print(len(files),ts)#, ts_to_day(get_unix_ts(ts))\n",
    "    #print(files[0][0])\n",
    "    print(\"Avg time: {}\\n\".format(global_travel_time(files, ts,9999999)))"
   ]
  },
  {
   "cell_type": "code",
   "execution_count": 266,
   "metadata": {},
   "outputs": [
    {
     "data": {
      "text/plain": [
       "['27', '28', '29', '30', '31']"
      ]
     },
     "execution_count": 266,
     "metadata": {},
     "output_type": "execute_result"
    }
   ],
   "source": [
    "Jan"
   ]
  },
  {
   "cell_type": "code",
   "execution_count": 240,
   "metadata": {},
   "outputs": [
    {
     "data": {
      "text/plain": [
       "['10', '11', '12', '13', '14']"
      ]
     },
     "execution_count": 240,
     "metadata": {},
     "output_type": "execute_result"
    }
   ],
   "source": [
    "week"
   ]
  },
  {
   "cell_type": "code",
   "execution_count": 250,
   "metadata": {},
   "outputs": [
    {
     "name": "stdout",
     "output_type": "stream",
     "text": [
      "139 2020-02-14 10:09:59 Monday\n"
     ]
    }
   ],
   "source": [
    "file_dir=\"/media/tfc/btjourney/journeytimes/data_bin/2020/02/14/\"\n",
    "files=sorted(os.listdir(file_dir))\n",
    "#print(files)\n",
    "ts=json.loads(read_file(file_dir+files[0]))[0][\"time\"]\n",
    "print(len(files),ts, ts_to_day(get_unix_ts(ts)))"
   ]
  },
  {
   "cell_type": "code",
   "execution_count": 262,
   "metadata": {},
   "outputs": [
    {
     "name": "stdout",
     "output_type": "stream",
     "text": [
      "1581675189.811_2020-02-14-10-13-09.json\n"
     ]
    },
    {
     "data": {
      "text/plain": [
       "{'id': 'CAMBRIDGE_JTMS|9800WBETRSU3',\n",
       " 'time': '2020-02-14 10:09:59',\n",
       " 'period': 300,\n",
       " 'travelTime': 118,\n",
       " 'normalTravelTime': 136.562}"
      ]
     },
     "execution_count": 262,
     "metadata": {},
     "output_type": "execute_result"
    }
   ],
   "source": [
    "file_dir=\"/media/tfc/btjourney/journeytimes/data_bin/2020/02/14/\"\n",
    "files=sorted(os.listdir(file_dir))\n",
    "print(files[0])\n",
    "json.loads(read_file(file_dir+files[0]))[0]#[0][\"time\"]"
   ]
  },
  {
   "cell_type": "code",
   "execution_count": 273,
   "metadata": {},
   "outputs": [
    {
     "data": {
      "text/plain": [
       "1581674999"
      ]
     },
     "execution_count": 273,
     "metadata": {},
     "output_type": "execute_result"
    }
   ],
   "source": [
    "get_unix_ts(\"2020-02-14 10:09:59\")"
   ]
  },
  {
   "cell_type": "code",
   "execution_count": 271,
   "metadata": {},
   "outputs": [
    {
     "name": "stdout",
     "output_type": "stream",
     "text": [
      "63 2020-02-10 13:15:28\n",
      "1581340818.035_2020-02-10-13-20-18.json 1581359418.021_2020-02-10-18-30-18.json\n",
      "Avg time: 251.89055930691808\n",
      "\n",
      "99 2020-02-11 10:04:09\n",
      "1581415624.984_2020-02-11-10-07-04.json 1581445025.055_2020-02-11-18-17-05.json\n",
      "Avg time: 258.8503764877338\n",
      "\n",
      "92 2020-02-12 10:34:07\n",
      "1581503849.441_2020-02-12-10-37-29.json 1581531149.585_2020-02-12-18-12-29.json\n",
      "Avg time: 259.08883943854846\n",
      "\n",
      "61 2020-02-13 13:08:38\n",
      "1581599672.693_2020-02-13-13-14-32.json 1581617829.275_2020-02-13-18-17-09.json\n",
      "Avg time: 289.91396589873744\n",
      "\n",
      "139 2020-02-14 10:09:59\n",
      "1581675189.811_2020-02-14-10-13-09.json 1581716589.809_2020-02-14-21-43-09.json\n"
     ]
    },
    {
     "ename": "TypeError",
     "evalue": "unsupported operand type(s) for -: 'NoneType' and 'int'",
     "output_type": "error",
     "traceback": [
      "\u001b[0;31m---------------------------------------------------------------------------\u001b[0m",
      "\u001b[0;31mTypeError\u001b[0m                                 Traceback (most recent call last)",
      "\u001b[0;32m<ipython-input-271-6c95fab9afd2>\u001b[0m in \u001b[0;36m<module>\u001b[0;34m\u001b[0m\n\u001b[1;32m      5\u001b[0m     \u001b[0mprint\u001b[0m\u001b[0;34m(\u001b[0m\u001b[0mlen\u001b[0m\u001b[0;34m(\u001b[0m\u001b[0mfiles\u001b[0m\u001b[0;34m)\u001b[0m\u001b[0;34m,\u001b[0m\u001b[0mts\u001b[0m\u001b[0;34m)\u001b[0m\u001b[0;31m#, ts_to_day(get_unix_ts(ts))\u001b[0m\u001b[0;34m\u001b[0m\u001b[0;34m\u001b[0m\u001b[0m\n\u001b[1;32m      6\u001b[0m     \u001b[0;31m#print(files[0][0])\u001b[0m\u001b[0;34m\u001b[0m\u001b[0;34m\u001b[0m\u001b[0;34m\u001b[0m\u001b[0m\n\u001b[0;32m----> 7\u001b[0;31m     \u001b[0mprint\u001b[0m\u001b[0;34m(\u001b[0m\u001b[0;34m\"Avg time: {}\\n\"\u001b[0m\u001b[0;34m.\u001b[0m\u001b[0mformat\u001b[0m\u001b[0;34m(\u001b[0m\u001b[0mglobal_travel_time\u001b[0m\u001b[0;34m(\u001b[0m\u001b[0mfiles\u001b[0m\u001b[0;34m,\u001b[0m \u001b[0mts\u001b[0m\u001b[0;34m,\u001b[0m\u001b[0;36m9999999\u001b[0m\u001b[0;34m)\u001b[0m\u001b[0;34m)\u001b[0m\u001b[0;34m)\u001b[0m\u001b[0;34m\u001b[0m\u001b[0;34m\u001b[0m\u001b[0m\n\u001b[0m\u001b[1;32m      8\u001b[0m \u001b[0;34m\u001b[0m\u001b[0m\n",
      "\u001b[0;32m<ipython-input-246-a653c4f3adde>\u001b[0m in \u001b[0;36mglobal_travel_time\u001b[0;34m(files, ts, duration)\u001b[0m\n\u001b[1;32m      5\u001b[0m         \u001b[0mmsg_json\u001b[0m\u001b[0;34m=\u001b[0m\u001b[0mjson\u001b[0m\u001b[0;34m.\u001b[0m\u001b[0mloads\u001b[0m\u001b[0;34m(\u001b[0m\u001b[0mread_file\u001b[0m\u001b[0;34m(\u001b[0m\u001b[0mfile_dir\u001b[0m\u001b[0;34m+\u001b[0m\u001b[0mfiles\u001b[0m\u001b[0;34m[\u001b[0m\u001b[0mi\u001b[0m\u001b[0;34m]\u001b[0m\u001b[0;34m)\u001b[0m\u001b[0;34m)\u001b[0m\u001b[0;34m\u001b[0m\u001b[0;34m\u001b[0m\u001b[0m\n\u001b[1;32m      6\u001b[0m         \u001b[0;32mfor\u001b[0m \u001b[0mi\u001b[0m \u001b[0;32min\u001b[0m \u001b[0mrange\u001b[0m\u001b[0;34m(\u001b[0m\u001b[0;36m0\u001b[0m\u001b[0;34m,\u001b[0m \u001b[0mlen\u001b[0m\u001b[0;34m(\u001b[0m\u001b[0mmsg_json\u001b[0m\u001b[0;34m)\u001b[0m\u001b[0;34m)\u001b[0m\u001b[0;34m:\u001b[0m\u001b[0;34m\u001b[0m\u001b[0;34m\u001b[0m\u001b[0m\n\u001b[0;32m----> 7\u001b[0;31m             \u001b[0;32mif\u001b[0m\u001b[0;34m(\u001b[0m\u001b[0;34m(\u001b[0m\u001b[0mget_unix_ts\u001b[0m\u001b[0;34m(\u001b[0m\u001b[0mmsg_json\u001b[0m\u001b[0;34m[\u001b[0m\u001b[0mi\u001b[0m\u001b[0;34m]\u001b[0m\u001b[0;34m[\u001b[0m\u001b[0;34m\"time\"\u001b[0m\u001b[0;34m]\u001b[0m\u001b[0;34m)\u001b[0m\u001b[0;34m-\u001b[0m\u001b[0mget_unix_ts\u001b[0m\u001b[0;34m(\u001b[0m\u001b[0mts\u001b[0m\u001b[0;34m)\u001b[0m\u001b[0;34m<\u001b[0m\u001b[0mduration\u001b[0m\u001b[0;34m)\u001b[0m\u001b[0;32mand\u001b[0m\u001b[0;34m(\u001b[0m\u001b[0mget_unix_ts\u001b[0m\u001b[0;34m(\u001b[0m\u001b[0mmsg_json\u001b[0m\u001b[0;34m[\u001b[0m\u001b[0mi\u001b[0m\u001b[0;34m]\u001b[0m\u001b[0;34m[\u001b[0m\u001b[0;34m\"time\"\u001b[0m\u001b[0;34m]\u001b[0m\u001b[0;34m)\u001b[0m\u001b[0;34m-\u001b[0m\u001b[0mget_unix_ts\u001b[0m\u001b[0;34m(\u001b[0m\u001b[0mts\u001b[0m\u001b[0;34m)\u001b[0m\u001b[0;34m>=\u001b[0m\u001b[0;36m0\u001b[0m\u001b[0;34m)\u001b[0m \u001b[0;34m)\u001b[0m\u001b[0;34m:\u001b[0m\u001b[0;34m\u001b[0m\u001b[0;34m\u001b[0m\u001b[0m\n\u001b[0m\u001b[1;32m      8\u001b[0m                 \u001b[0;32mif\u001b[0m\u001b[0;34m(\u001b[0m\u001b[0mmsg_json\u001b[0m\u001b[0;34m[\u001b[0m\u001b[0mi\u001b[0m\u001b[0;34m]\u001b[0m\u001b[0;34m[\u001b[0m\u001b[0;34m\"travelTime\"\u001b[0m\u001b[0;34m]\u001b[0m\u001b[0;34m!=\u001b[0m\u001b[0;32mNone\u001b[0m\u001b[0;34m)\u001b[0m\u001b[0;34m:\u001b[0m\u001b[0;34m\u001b[0m\u001b[0;34m\u001b[0m\u001b[0m\n\u001b[1;32m      9\u001b[0m                     \u001b[0mavg_tt\u001b[0m\u001b[0;34m.\u001b[0m\u001b[0mappend\u001b[0m\u001b[0;34m(\u001b[0m\u001b[0mmsg_json\u001b[0m\u001b[0;34m[\u001b[0m\u001b[0mi\u001b[0m\u001b[0;34m]\u001b[0m\u001b[0;34m[\u001b[0m\u001b[0;34m\"travelTime\"\u001b[0m\u001b[0;34m]\u001b[0m\u001b[0;34m)\u001b[0m\u001b[0;34m\u001b[0m\u001b[0;34m\u001b[0m\u001b[0m\n",
      "\u001b[0;31mTypeError\u001b[0m: unsupported operand type(s) for -: 'NoneType' and 'int'"
     ]
    }
   ],
   "source": [
    "for i in week:\n",
    "    file_dir=\"/media/tfc/btjourney/journeytimes/data_bin/2020/02/\"+i+\"/\"\n",
    "    files=sorted(os.listdir(file_dir))\n",
    "    ts=json.loads(read_file(file_dir+files[0]))[0][\"time\"]\n",
    "    print(len(files),ts)#, ts_to_day(get_unix_ts(ts))\n",
    "    #print(files[0][0])\n",
    "    print(\"Avg time: {}\\n\".format(global_travel_time(files, ts,9999999)))\n",
    "    "
   ]
  },
  {
   "cell_type": "code",
   "execution_count": 239,
   "metadata": {},
   "outputs": [
    {
     "ename": "SyntaxError",
     "evalue": "unexpected EOF while parsing (<ipython-input-239-f7181242cb70>, line 1)",
     "output_type": "error",
     "traceback": [
      "\u001b[0;36m  File \u001b[0;32m\"<ipython-input-239-f7181242cb70>\"\u001b[0;36m, line \u001b[0;32m1\u001b[0m\n\u001b[0;31m    def to_MPH(t):\u001b[0m\n\u001b[0m                  ^\u001b[0m\n\u001b[0;31mSyntaxError\u001b[0m\u001b[0;31m:\u001b[0m unexpected EOF while parsing\n"
     ]
    }
   ],
   "source": [
    "def to_MPH(time):\n",
    "    TO_MPH=2.23694\n",
    "    dist=\n",
    "    return (dist/time)*TO_MPH\n"
   ]
  },
  {
   "cell_type": "code",
   "execution_count": 148,
   "metadata": {},
   "outputs": [
    {
     "data": {
      "text/plain": [
       "['1580914134.301_2020-02-05-14-48-54.json',\n",
       " '1580914433.823_2020-02-05-14-53-53.json',\n",
       " '1580914733.837_2020-02-05-14-58-53.json',\n",
       " '1580915034.012_2020-02-05-15-03-54.json',\n",
       " '1580915334.011_2020-02-05-15-08-54.json',\n",
       " '1580915633.863_2020-02-05-15-13-53.json',\n",
       " '1580915933.843_2020-02-05-15-18-53.json',\n",
       " '1580916233.842_2020-02-05-15-23-53.json',\n",
       " '1580916533.911_2020-02-05-15-28-53.json',\n",
       " '1580916833.855_2020-02-05-15-33-53.json',\n",
       " '1580917133.924_2020-02-05-15-38-53.json',\n",
       " '1580917433.941_2020-02-05-15-43-53.json',\n",
       " '1580917734.025_2020-02-05-15-48-54.json',\n",
       " '1580918033.984_2020-02-05-15-53-53.json',\n",
       " '1580918333.946_2020-02-05-15-58-53.json',\n",
       " '1580918633.928_2020-02-05-16-03-53.json',\n",
       " '1580918933.940_2020-02-05-16-08-53.json',\n",
       " '1580919233.902_2020-02-05-16-13-53.json',\n",
       " '1580919533.915_2020-02-05-16-18-53.json',\n",
       " '1580919833.886_2020-02-05-16-23-53.json',\n",
       " '1580920133.856_2020-02-05-16-28-53.json',\n",
       " '1580920433.820_2020-02-05-16-33-53.json',\n",
       " '1580920733.883_2020-02-05-16-38-53.json',\n",
       " '1580921033.829_2020-02-05-16-43-53.json',\n",
       " '1580921333.909_2020-02-05-16-48-53.json',\n",
       " '1580921633.872_2020-02-05-16-53-53.json',\n",
       " '1580921933.993_2020-02-05-16-58-53.json',\n",
       " '1580922233.819_2020-02-05-17-03-53.json',\n",
       " '1580922533.872_2020-02-05-17-08-53.json',\n",
       " '1580922833.888_2020-02-05-17-13-53.json',\n",
       " '1580923133.898_2020-02-05-17-18-53.json',\n",
       " '1580923433.845_2020-02-05-17-23-53.json',\n",
       " '1580923733.862_2020-02-05-17-28-53.json',\n",
       " '1580924033.819_2020-02-05-17-33-53.json',\n",
       " '1580924333.865_2020-02-05-17-38-53.json',\n",
       " '1580924633.889_2020-02-05-17-43-53.json',\n",
       " '1580924933.983_2020-02-05-17-48-53.json',\n",
       " '1580925233.811_2020-02-05-17-53-53.json',\n",
       " '1580925533.898_2020-02-05-17-58-53.json',\n",
       " '1580925833.838_2020-02-05-18-03-53.json']"
      ]
     },
     "execution_count": 148,
     "metadata": {},
     "output_type": "execute_result"
    }
   ],
   "source": [
    "files=sorted(os.listdir(file_dir))\n",
    "files"
   ]
  },
  {
   "cell_type": "code",
   "execution_count": null,
   "metadata": {},
   "outputs": [],
   "source": []
  }
 ],
 "metadata": {
  "kernelspec": {
   "display_name": "Python 3",
   "language": "python",
   "name": "python3"
  },
  "language_info": {
   "codemirror_mode": {
    "name": "ipython",
    "version": 3
   },
   "file_extension": ".py",
   "mimetype": "text/x-python",
   "name": "python",
   "nbconvert_exporter": "python",
   "pygments_lexer": "ipython3",
   "version": "3.7.3"
  }
 },
 "nbformat": 4,
 "nbformat_minor": 2
}
